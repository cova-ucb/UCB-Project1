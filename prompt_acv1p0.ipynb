{
 "cells": [
  {
   "cell_type": "markdown",
   "metadata": {},
   "source": [
    "### Will a Customer Accept the Coupon?\n",
    "\n",
    "**Context**\n",
    "\n",
    "Imagine driving through town and a coupon is delivered to your cell phone for a restaraunt near where you are driving. Would you accept that coupon and take a short detour to the restaraunt? Would you accept the coupon but use it on a sunbsequent trip? Would you ignore the coupon entirely? What if the coupon was for a bar instead of a restaraunt? What about a coffee house? Would you accept a bar coupon with a minor passenger in the car? What about if it was just you and your partner in the car? Would weather impact the rate of acceptance? What about the time of day?\n",
    "\n",
    "Obviously, proximity to the business is a factor on whether the coupon is delivered to the driver or not, but what are the factors that determine whether a driver accepts the coupon once it is delivered to them? How would you determine whether a driver is likely to accept a coupon?\n",
    "\n",
    "**Overview**\n",
    "\n",
    "The goal of this project is to use what you know about visualizations and probability distributions to distinguish between customers who accepted a driving coupon versus those that did not.\n",
    "\n",
    "**Data**\n",
    "\n",
    "This data comes to us from the UCI Machine Learning repository and was collected via a survey on Amazon Mechanical Turk. The survey describes different driving scenarios including the destination, current time, weather, passenger, etc., and then ask the person whether he will accept the coupon if he is the driver. Answers that the user will drive there ‘right away’ or ‘later before the coupon expires’ are labeled as ‘Y = 1’ and answers ‘no, I do not want the coupon’ are labeled as ‘Y = 0’.  There are five different types of coupons -- less expensive restaurants (under \\\\$20), coffee houses, carry out & take away, bar, and more expensive restaurants (\\\\$20 - \\\\$50). "
   ]
  },
  {
   "cell_type": "markdown",
   "metadata": {},
   "source": [
    "**Deliverables**\n",
    "\n",
    "Your final product should be a brief report that highlights the differences between customers who did and did not accept the coupons.  To explore the data you will utilize your knowledge of plotting, statistical summaries, and visualization using Python. You will publish your findings in a public facing github repository as your first portfolio piece. \n",
    "\n",
    "\n",
    "\n"
   ]
  },
  {
   "cell_type": "markdown",
   "metadata": {},
   "source": [
    "### Data Description\n",
    "Keep in mind that these values mentioned below are average values.\n",
    "\n",
    "The attributes of this data set include:\n",
    "1. User attributes\n",
    "    -  Gender: male, female\n",
    "    -  Age: below 21, 21 to 25, 26 to 30, etc.\n",
    "    -  Marital Status: single, married partner, unmarried partner, or widowed\n",
    "    -  Number of children: 0, 1, or more than 1\n",
    "    -  Education: high school, bachelors degree, associates degree, or graduate degree\n",
    "    -  Occupation: architecture & engineering, business & financial, etc.\n",
    "    -  Annual income: less than \\\\$12500, \\\\$12500 - \\\\$24999, \\\\$25000 - \\\\$37499, etc.\n",
    "    -  Number of times that he/she goes to a bar: 0, less than 1, 1 to 3, 4 to 8 or greater than 8\n",
    "    -  Number of times that he/she buys takeaway food: 0, less than 1, 1 to 3, 4 to 8 or greater\n",
    "    than 8\n",
    "    -  Number of times that he/she goes to a coffee house: 0, less than 1, 1 to 3, 4 to 8 or\n",
    "    greater than 8\n",
    "    -  Number of times that he/she eats at a restaurant with average expense less than \\\\$20 per\n",
    "    person: 0, less than 1, 1 to 3, 4 to 8 or greater than 8\n",
    "    -  Number of times that he/she goes to a bar: 0, less than 1, 1 to 3, 4 to 8 or greater than 8\n",
    "    \n",
    "\n",
    "2. Contextual attributes\n",
    "    - Driving destination: home, work, or no urgent destination\n",
    "    - Location of user, coupon and destination: we provide a map to show the geographical\n",
    "    location of the user, destination, and the venue, and we mark the distance between each\n",
    "    two places with time of driving. The user can see whether the venue is in the same\n",
    "    direction as the destination.\n",
    "    - Weather: sunny, rainy, or snowy\n",
    "    - Temperature: 30F, 55F, or 80F\n",
    "    - Time: 10AM, 2PM, or 6PM\n",
    "    - Passenger: alone, partner, kid(s), or friend(s)\n",
    "\n",
    "\n",
    "3. Coupon attributes\n",
    "    - time before it expires: 2 hours or one day"
   ]
  },
  {
   "cell_type": "code",
   "execution_count": 1,
   "metadata": {},
   "outputs": [],
   "source": [
    "import matplotlib.pyplot as plt\n",
    "import seaborn as sns\n",
    "import pandas as pd\n",
    "import numpy as np"
   ]
  },
  {
   "cell_type": "markdown",
   "metadata": {},
   "source": [
    "### Problems\n",
    "\n",
    "Use the prompts below to get started with your data analysis.  \n",
    "\n",
    "1. Read in the `coupons.csv` file.\n",
    "\n",
    "\n"
   ]
  },
  {
   "cell_type": "code",
   "execution_count": 2,
   "metadata": {},
   "outputs": [],
   "source": [
    "data = pd.read_csv('data/coupons.csv')"
   ]
  },
  {
   "cell_type": "code",
   "execution_count": 3,
   "metadata": {},
   "outputs": [
    {
     "data": {
      "text/html": [
       "<div>\n",
       "<style scoped>\n",
       "    .dataframe tbody tr th:only-of-type {\n",
       "        vertical-align: middle;\n",
       "    }\n",
       "\n",
       "    .dataframe tbody tr th {\n",
       "        vertical-align: top;\n",
       "    }\n",
       "\n",
       "    .dataframe thead th {\n",
       "        text-align: right;\n",
       "    }\n",
       "</style>\n",
       "<table border=\"1\" class=\"dataframe\">\n",
       "  <thead>\n",
       "    <tr style=\"text-align: right;\">\n",
       "      <th></th>\n",
       "      <th>destination</th>\n",
       "      <th>passanger</th>\n",
       "      <th>weather</th>\n",
       "      <th>temperature</th>\n",
       "      <th>time</th>\n",
       "      <th>coupon</th>\n",
       "      <th>expiration</th>\n",
       "      <th>gender</th>\n",
       "      <th>age</th>\n",
       "      <th>maritalStatus</th>\n",
       "      <th>...</th>\n",
       "      <th>CoffeeHouse</th>\n",
       "      <th>CarryAway</th>\n",
       "      <th>RestaurantLessThan20</th>\n",
       "      <th>Restaurant20To50</th>\n",
       "      <th>toCoupon_GEQ5min</th>\n",
       "      <th>toCoupon_GEQ15min</th>\n",
       "      <th>toCoupon_GEQ25min</th>\n",
       "      <th>direction_same</th>\n",
       "      <th>direction_opp</th>\n",
       "      <th>Y</th>\n",
       "    </tr>\n",
       "  </thead>\n",
       "  <tbody>\n",
       "    <tr>\n",
       "      <th>0</th>\n",
       "      <td>No Urgent Place</td>\n",
       "      <td>Alone</td>\n",
       "      <td>Sunny</td>\n",
       "      <td>55</td>\n",
       "      <td>2PM</td>\n",
       "      <td>Restaurant(&lt;20)</td>\n",
       "      <td>1d</td>\n",
       "      <td>Female</td>\n",
       "      <td>21</td>\n",
       "      <td>Unmarried partner</td>\n",
       "      <td>...</td>\n",
       "      <td>never</td>\n",
       "      <td>NaN</td>\n",
       "      <td>4~8</td>\n",
       "      <td>1~3</td>\n",
       "      <td>1</td>\n",
       "      <td>0</td>\n",
       "      <td>0</td>\n",
       "      <td>0</td>\n",
       "      <td>1</td>\n",
       "      <td>1</td>\n",
       "    </tr>\n",
       "    <tr>\n",
       "      <th>1</th>\n",
       "      <td>No Urgent Place</td>\n",
       "      <td>Friend(s)</td>\n",
       "      <td>Sunny</td>\n",
       "      <td>80</td>\n",
       "      <td>10AM</td>\n",
       "      <td>Coffee House</td>\n",
       "      <td>2h</td>\n",
       "      <td>Female</td>\n",
       "      <td>21</td>\n",
       "      <td>Unmarried partner</td>\n",
       "      <td>...</td>\n",
       "      <td>never</td>\n",
       "      <td>NaN</td>\n",
       "      <td>4~8</td>\n",
       "      <td>1~3</td>\n",
       "      <td>1</td>\n",
       "      <td>0</td>\n",
       "      <td>0</td>\n",
       "      <td>0</td>\n",
       "      <td>1</td>\n",
       "      <td>0</td>\n",
       "    </tr>\n",
       "    <tr>\n",
       "      <th>2</th>\n",
       "      <td>No Urgent Place</td>\n",
       "      <td>Friend(s)</td>\n",
       "      <td>Sunny</td>\n",
       "      <td>80</td>\n",
       "      <td>10AM</td>\n",
       "      <td>Carry out &amp; Take away</td>\n",
       "      <td>2h</td>\n",
       "      <td>Female</td>\n",
       "      <td>21</td>\n",
       "      <td>Unmarried partner</td>\n",
       "      <td>...</td>\n",
       "      <td>never</td>\n",
       "      <td>NaN</td>\n",
       "      <td>4~8</td>\n",
       "      <td>1~3</td>\n",
       "      <td>1</td>\n",
       "      <td>1</td>\n",
       "      <td>0</td>\n",
       "      <td>0</td>\n",
       "      <td>1</td>\n",
       "      <td>1</td>\n",
       "    </tr>\n",
       "    <tr>\n",
       "      <th>3</th>\n",
       "      <td>No Urgent Place</td>\n",
       "      <td>Friend(s)</td>\n",
       "      <td>Sunny</td>\n",
       "      <td>80</td>\n",
       "      <td>2PM</td>\n",
       "      <td>Coffee House</td>\n",
       "      <td>2h</td>\n",
       "      <td>Female</td>\n",
       "      <td>21</td>\n",
       "      <td>Unmarried partner</td>\n",
       "      <td>...</td>\n",
       "      <td>never</td>\n",
       "      <td>NaN</td>\n",
       "      <td>4~8</td>\n",
       "      <td>1~3</td>\n",
       "      <td>1</td>\n",
       "      <td>1</td>\n",
       "      <td>0</td>\n",
       "      <td>0</td>\n",
       "      <td>1</td>\n",
       "      <td>0</td>\n",
       "    </tr>\n",
       "    <tr>\n",
       "      <th>4</th>\n",
       "      <td>No Urgent Place</td>\n",
       "      <td>Friend(s)</td>\n",
       "      <td>Sunny</td>\n",
       "      <td>80</td>\n",
       "      <td>2PM</td>\n",
       "      <td>Coffee House</td>\n",
       "      <td>1d</td>\n",
       "      <td>Female</td>\n",
       "      <td>21</td>\n",
       "      <td>Unmarried partner</td>\n",
       "      <td>...</td>\n",
       "      <td>never</td>\n",
       "      <td>NaN</td>\n",
       "      <td>4~8</td>\n",
       "      <td>1~3</td>\n",
       "      <td>1</td>\n",
       "      <td>1</td>\n",
       "      <td>0</td>\n",
       "      <td>0</td>\n",
       "      <td>1</td>\n",
       "      <td>0</td>\n",
       "    </tr>\n",
       "  </tbody>\n",
       "</table>\n",
       "<p>5 rows × 26 columns</p>\n",
       "</div>"
      ],
      "text/plain": [
       "       destination  passanger weather  temperature  time  \\\n",
       "0  No Urgent Place      Alone   Sunny           55   2PM   \n",
       "1  No Urgent Place  Friend(s)   Sunny           80  10AM   \n",
       "2  No Urgent Place  Friend(s)   Sunny           80  10AM   \n",
       "3  No Urgent Place  Friend(s)   Sunny           80   2PM   \n",
       "4  No Urgent Place  Friend(s)   Sunny           80   2PM   \n",
       "\n",
       "                  coupon expiration  gender age      maritalStatus  ...  \\\n",
       "0        Restaurant(<20)         1d  Female  21  Unmarried partner  ...   \n",
       "1           Coffee House         2h  Female  21  Unmarried partner  ...   \n",
       "2  Carry out & Take away         2h  Female  21  Unmarried partner  ...   \n",
       "3           Coffee House         2h  Female  21  Unmarried partner  ...   \n",
       "4           Coffee House         1d  Female  21  Unmarried partner  ...   \n",
       "\n",
       "   CoffeeHouse CarryAway RestaurantLessThan20 Restaurant20To50  \\\n",
       "0        never       NaN                  4~8              1~3   \n",
       "1        never       NaN                  4~8              1~3   \n",
       "2        never       NaN                  4~8              1~3   \n",
       "3        never       NaN                  4~8              1~3   \n",
       "4        never       NaN                  4~8              1~3   \n",
       "\n",
       "  toCoupon_GEQ5min toCoupon_GEQ15min toCoupon_GEQ25min direction_same  \\\n",
       "0                1                 0                 0              0   \n",
       "1                1                 0                 0              0   \n",
       "2                1                 1                 0              0   \n",
       "3                1                 1                 0              0   \n",
       "4                1                 1                 0              0   \n",
       "\n",
       "  direction_opp  Y  \n",
       "0             1  1  \n",
       "1             1  0  \n",
       "2             1  1  \n",
       "3             1  0  \n",
       "4             1  0  \n",
       "\n",
       "[5 rows x 26 columns]"
      ]
     },
     "execution_count": 3,
     "metadata": {},
     "output_type": "execute_result"
    }
   ],
   "source": [
    "data.head()"
   ]
  },
  {
   "cell_type": "markdown",
   "metadata": {},
   "source": [
    "2. Investigate the dataset for missing or problematic data."
   ]
  },
  {
   "cell_type": "markdown",
   "metadata": {},
   "source": [
    "To start this investigation, let's obtain general info about the data frame columns and their contents:"
   ]
  },
  {
   "cell_type": "code",
   "execution_count": 4,
   "metadata": {},
   "outputs": [
    {
     "name": "stdout",
     "output_type": "stream",
     "text": [
      "<class 'pandas.core.frame.DataFrame'>\n",
      "RangeIndex: 12684 entries, 0 to 12683\n",
      "Data columns (total 26 columns):\n",
      " #   Column                Non-Null Count  Dtype \n",
      "---  ------                --------------  ----- \n",
      " 0   destination           12684 non-null  object\n",
      " 1   passanger             12684 non-null  object\n",
      " 2   weather               12684 non-null  object\n",
      " 3   temperature           12684 non-null  int64 \n",
      " 4   time                  12684 non-null  object\n",
      " 5   coupon                12684 non-null  object\n",
      " 6   expiration            12684 non-null  object\n",
      " 7   gender                12684 non-null  object\n",
      " 8   age                   12684 non-null  object\n",
      " 9   maritalStatus         12684 non-null  object\n",
      " 10  has_children          12684 non-null  int64 \n",
      " 11  education             12684 non-null  object\n",
      " 12  occupation            12684 non-null  object\n",
      " 13  income                12684 non-null  object\n",
      " 14  car                   108 non-null    object\n",
      " 15  Bar                   12577 non-null  object\n",
      " 16  CoffeeHouse           12467 non-null  object\n",
      " 17  CarryAway             12533 non-null  object\n",
      " 18  RestaurantLessThan20  12554 non-null  object\n",
      " 19  Restaurant20To50      12495 non-null  object\n",
      " 20  toCoupon_GEQ5min      12684 non-null  int64 \n",
      " 21  toCoupon_GEQ15min     12684 non-null  int64 \n",
      " 22  toCoupon_GEQ25min     12684 non-null  int64 \n",
      " 23  direction_same        12684 non-null  int64 \n",
      " 24  direction_opp         12684 non-null  int64 \n",
      " 25  Y                     12684 non-null  int64 \n",
      "dtypes: int64(8), object(18)\n",
      "memory usage: 2.5+ MB\n"
     ]
    }
   ],
   "source": [
    "# General data frame info\n",
    "data.info()"
   ]
  },
  {
   "cell_type": "markdown",
   "metadata": {},
   "source": [
    "From data.info() and by comparing the number of non-null values listed we can see there are several columns with null entries"
   ]
  },
  {
   "cell_type": "markdown",
   "metadata": {},
   "source": [
    "Let's get additional insight into the number of missing or null values (NA, NaN) for those columns:"
   ]
  },
  {
   "cell_type": "code",
   "execution_count": 5,
   "metadata": {},
   "outputs": [
    {
     "data": {
      "text/plain": [
       "destination                 0\n",
       "passanger                   0\n",
       "weather                     0\n",
       "temperature                 0\n",
       "time                        0\n",
       "coupon                      0\n",
       "expiration                  0\n",
       "gender                      0\n",
       "age                         0\n",
       "maritalStatus               0\n",
       "has_children                0\n",
       "education                   0\n",
       "occupation                  0\n",
       "income                      0\n",
       "car                     12576\n",
       "Bar                       107\n",
       "CoffeeHouse               217\n",
       "CarryAway                 151\n",
       "RestaurantLessThan20      130\n",
       "Restaurant20To50          189\n",
       "toCoupon_GEQ5min            0\n",
       "toCoupon_GEQ15min           0\n",
       "toCoupon_GEQ25min           0\n",
       "direction_same              0\n",
       "direction_opp               0\n",
       "Y                           0\n",
       "dtype: int64"
      ]
     },
     "execution_count": 5,
     "metadata": {},
     "output_type": "execute_result"
    }
   ],
   "source": [
    "# Insights into number of missing or null values (NA, NaN)\n",
    "data.isna().sum()"
   ]
  },
  {
   "cell_type": "markdown",
   "metadata": {},
   "source": [
    "We see the majority of nulls are found in the \"car\" column, followed by CoffeeHouse, Restaurant20Yo50, CarryAway, RestaurantLessThan20 and Bar\n",
    "We will explore some of these entries more specifically later.\n",
    "\n",
    "In the meantime les do some visual exporing of the dataframe and its columns:\n",
    "\n"
   ]
  },
  {
   "cell_type": "code",
   "execution_count": 6,
   "metadata": {},
   "outputs": [
    {
     "name": "stdout",
     "output_type": "stream",
     "text": [
      "Initial max_rows value is : 60\n",
      "Initial max_columns value is : 20\n",
      "New max_rows value is : 200\n",
      "New max_columns value is : 26\n"
     ]
    }
   ],
   "source": [
    "# Set up number of visible rows and columns to appropriate numbers so it is possible to comfortably check data frame contents visually in Jupyter\n",
    "print(\"Initial max_rows value is : \" + \n",
    "      str(pd.options.display.max_rows)) \n",
    "print(\"Initial max_columns value is : \" + \n",
    "      str(pd.options.display.max_columns)) \n",
    "pd.options.display.max_rows = 200\n",
    "pd.options.display.max_columns = 26\n",
    "print(\"New max_rows value is : \" + \n",
    "      str(pd.options.display.max_rows)) \n",
    "print(\"New max_columns value is : \" + \n",
    "      str(pd.options.display.max_columns)) "
   ]
  },
  {
   "cell_type": "code",
   "execution_count": 7,
   "metadata": {},
   "outputs": [
    {
     "data": {
      "text/html": [
       "<div>\n",
       "<style scoped>\n",
       "    .dataframe tbody tr th:only-of-type {\n",
       "        vertical-align: middle;\n",
       "    }\n",
       "\n",
       "    .dataframe tbody tr th {\n",
       "        vertical-align: top;\n",
       "    }\n",
       "\n",
       "    .dataframe thead th {\n",
       "        text-align: right;\n",
       "    }\n",
       "</style>\n",
       "<table border=\"1\" class=\"dataframe\">\n",
       "  <thead>\n",
       "    <tr style=\"text-align: right;\">\n",
       "      <th></th>\n",
       "      <th>destination</th>\n",
       "      <th>passanger</th>\n",
       "      <th>weather</th>\n",
       "      <th>temperature</th>\n",
       "      <th>time</th>\n",
       "      <th>coupon</th>\n",
       "      <th>expiration</th>\n",
       "      <th>gender</th>\n",
       "      <th>age</th>\n",
       "      <th>maritalStatus</th>\n",
       "      <th>has_children</th>\n",
       "      <th>education</th>\n",
       "      <th>occupation</th>\n",
       "      <th>income</th>\n",
       "      <th>car</th>\n",
       "      <th>Bar</th>\n",
       "      <th>CoffeeHouse</th>\n",
       "      <th>CarryAway</th>\n",
       "      <th>RestaurantLessThan20</th>\n",
       "      <th>Restaurant20To50</th>\n",
       "      <th>toCoupon_GEQ5min</th>\n",
       "      <th>toCoupon_GEQ15min</th>\n",
       "      <th>toCoupon_GEQ25min</th>\n",
       "      <th>direction_same</th>\n",
       "      <th>direction_opp</th>\n",
       "      <th>Y</th>\n",
       "    </tr>\n",
       "  </thead>\n",
       "  <tbody>\n",
       "    <tr>\n",
       "      <th>0</th>\n",
       "      <td>No Urgent Place</td>\n",
       "      <td>Alone</td>\n",
       "      <td>Sunny</td>\n",
       "      <td>55</td>\n",
       "      <td>2PM</td>\n",
       "      <td>Restaurant(&lt;20)</td>\n",
       "      <td>1d</td>\n",
       "      <td>Female</td>\n",
       "      <td>21</td>\n",
       "      <td>Unmarried partner</td>\n",
       "      <td>1</td>\n",
       "      <td>Some college - no degree</td>\n",
       "      <td>Unemployed</td>\n",
       "      <td>$37500 - $49999</td>\n",
       "      <td>NaN</td>\n",
       "      <td>never</td>\n",
       "      <td>never</td>\n",
       "      <td>NaN</td>\n",
       "      <td>4~8</td>\n",
       "      <td>1~3</td>\n",
       "      <td>1</td>\n",
       "      <td>0</td>\n",
       "      <td>0</td>\n",
       "      <td>0</td>\n",
       "      <td>1</td>\n",
       "      <td>1</td>\n",
       "    </tr>\n",
       "    <tr>\n",
       "      <th>1</th>\n",
       "      <td>No Urgent Place</td>\n",
       "      <td>Friend(s)</td>\n",
       "      <td>Sunny</td>\n",
       "      <td>80</td>\n",
       "      <td>10AM</td>\n",
       "      <td>Coffee House</td>\n",
       "      <td>2h</td>\n",
       "      <td>Female</td>\n",
       "      <td>21</td>\n",
       "      <td>Unmarried partner</td>\n",
       "      <td>1</td>\n",
       "      <td>Some college - no degree</td>\n",
       "      <td>Unemployed</td>\n",
       "      <td>$37500 - $49999</td>\n",
       "      <td>NaN</td>\n",
       "      <td>never</td>\n",
       "      <td>never</td>\n",
       "      <td>NaN</td>\n",
       "      <td>4~8</td>\n",
       "      <td>1~3</td>\n",
       "      <td>1</td>\n",
       "      <td>0</td>\n",
       "      <td>0</td>\n",
       "      <td>0</td>\n",
       "      <td>1</td>\n",
       "      <td>0</td>\n",
       "    </tr>\n",
       "    <tr>\n",
       "      <th>2</th>\n",
       "      <td>No Urgent Place</td>\n",
       "      <td>Friend(s)</td>\n",
       "      <td>Sunny</td>\n",
       "      <td>80</td>\n",
       "      <td>10AM</td>\n",
       "      <td>Carry out &amp; Take away</td>\n",
       "      <td>2h</td>\n",
       "      <td>Female</td>\n",
       "      <td>21</td>\n",
       "      <td>Unmarried partner</td>\n",
       "      <td>1</td>\n",
       "      <td>Some college - no degree</td>\n",
       "      <td>Unemployed</td>\n",
       "      <td>$37500 - $49999</td>\n",
       "      <td>NaN</td>\n",
       "      <td>never</td>\n",
       "      <td>never</td>\n",
       "      <td>NaN</td>\n",
       "      <td>4~8</td>\n",
       "      <td>1~3</td>\n",
       "      <td>1</td>\n",
       "      <td>1</td>\n",
       "      <td>0</td>\n",
       "      <td>0</td>\n",
       "      <td>1</td>\n",
       "      <td>1</td>\n",
       "    </tr>\n",
       "    <tr>\n",
       "      <th>3</th>\n",
       "      <td>No Urgent Place</td>\n",
       "      <td>Friend(s)</td>\n",
       "      <td>Sunny</td>\n",
       "      <td>80</td>\n",
       "      <td>2PM</td>\n",
       "      <td>Coffee House</td>\n",
       "      <td>2h</td>\n",
       "      <td>Female</td>\n",
       "      <td>21</td>\n",
       "      <td>Unmarried partner</td>\n",
       "      <td>1</td>\n",
       "      <td>Some college - no degree</td>\n",
       "      <td>Unemployed</td>\n",
       "      <td>$37500 - $49999</td>\n",
       "      <td>NaN</td>\n",
       "      <td>never</td>\n",
       "      <td>never</td>\n",
       "      <td>NaN</td>\n",
       "      <td>4~8</td>\n",
       "      <td>1~3</td>\n",
       "      <td>1</td>\n",
       "      <td>1</td>\n",
       "      <td>0</td>\n",
       "      <td>0</td>\n",
       "      <td>1</td>\n",
       "      <td>0</td>\n",
       "    </tr>\n",
       "    <tr>\n",
       "      <th>4</th>\n",
       "      <td>No Urgent Place</td>\n",
       "      <td>Friend(s)</td>\n",
       "      <td>Sunny</td>\n",
       "      <td>80</td>\n",
       "      <td>2PM</td>\n",
       "      <td>Coffee House</td>\n",
       "      <td>1d</td>\n",
       "      <td>Female</td>\n",
       "      <td>21</td>\n",
       "      <td>Unmarried partner</td>\n",
       "      <td>1</td>\n",
       "      <td>Some college - no degree</td>\n",
       "      <td>Unemployed</td>\n",
       "      <td>$37500 - $49999</td>\n",
       "      <td>NaN</td>\n",
       "      <td>never</td>\n",
       "      <td>never</td>\n",
       "      <td>NaN</td>\n",
       "      <td>4~8</td>\n",
       "      <td>1~3</td>\n",
       "      <td>1</td>\n",
       "      <td>1</td>\n",
       "      <td>0</td>\n",
       "      <td>0</td>\n",
       "      <td>1</td>\n",
       "      <td>0</td>\n",
       "    </tr>\n",
       "    <tr>\n",
       "      <th>5</th>\n",
       "      <td>No Urgent Place</td>\n",
       "      <td>Friend(s)</td>\n",
       "      <td>Sunny</td>\n",
       "      <td>80</td>\n",
       "      <td>6PM</td>\n",
       "      <td>Restaurant(&lt;20)</td>\n",
       "      <td>2h</td>\n",
       "      <td>Female</td>\n",
       "      <td>21</td>\n",
       "      <td>Unmarried partner</td>\n",
       "      <td>1</td>\n",
       "      <td>Some college - no degree</td>\n",
       "      <td>Unemployed</td>\n",
       "      <td>$37500 - $49999</td>\n",
       "      <td>NaN</td>\n",
       "      <td>never</td>\n",
       "      <td>never</td>\n",
       "      <td>NaN</td>\n",
       "      <td>4~8</td>\n",
       "      <td>1~3</td>\n",
       "      <td>1</td>\n",
       "      <td>1</td>\n",
       "      <td>0</td>\n",
       "      <td>0</td>\n",
       "      <td>1</td>\n",
       "      <td>1</td>\n",
       "    </tr>\n",
       "    <tr>\n",
       "      <th>6</th>\n",
       "      <td>No Urgent Place</td>\n",
       "      <td>Friend(s)</td>\n",
       "      <td>Sunny</td>\n",
       "      <td>55</td>\n",
       "      <td>2PM</td>\n",
       "      <td>Carry out &amp; Take away</td>\n",
       "      <td>1d</td>\n",
       "      <td>Female</td>\n",
       "      <td>21</td>\n",
       "      <td>Unmarried partner</td>\n",
       "      <td>1</td>\n",
       "      <td>Some college - no degree</td>\n",
       "      <td>Unemployed</td>\n",
       "      <td>$37500 - $49999</td>\n",
       "      <td>NaN</td>\n",
       "      <td>never</td>\n",
       "      <td>never</td>\n",
       "      <td>NaN</td>\n",
       "      <td>4~8</td>\n",
       "      <td>1~3</td>\n",
       "      <td>1</td>\n",
       "      <td>1</td>\n",
       "      <td>0</td>\n",
       "      <td>0</td>\n",
       "      <td>1</td>\n",
       "      <td>1</td>\n",
       "    </tr>\n",
       "    <tr>\n",
       "      <th>7</th>\n",
       "      <td>No Urgent Place</td>\n",
       "      <td>Kid(s)</td>\n",
       "      <td>Sunny</td>\n",
       "      <td>80</td>\n",
       "      <td>10AM</td>\n",
       "      <td>Restaurant(&lt;20)</td>\n",
       "      <td>2h</td>\n",
       "      <td>Female</td>\n",
       "      <td>21</td>\n",
       "      <td>Unmarried partner</td>\n",
       "      <td>1</td>\n",
       "      <td>Some college - no degree</td>\n",
       "      <td>Unemployed</td>\n",
       "      <td>$37500 - $49999</td>\n",
       "      <td>NaN</td>\n",
       "      <td>never</td>\n",
       "      <td>never</td>\n",
       "      <td>NaN</td>\n",
       "      <td>4~8</td>\n",
       "      <td>1~3</td>\n",
       "      <td>1</td>\n",
       "      <td>1</td>\n",
       "      <td>0</td>\n",
       "      <td>0</td>\n",
       "      <td>1</td>\n",
       "      <td>1</td>\n",
       "    </tr>\n",
       "    <tr>\n",
       "      <th>8</th>\n",
       "      <td>No Urgent Place</td>\n",
       "      <td>Kid(s)</td>\n",
       "      <td>Sunny</td>\n",
       "      <td>80</td>\n",
       "      <td>10AM</td>\n",
       "      <td>Carry out &amp; Take away</td>\n",
       "      <td>2h</td>\n",
       "      <td>Female</td>\n",
       "      <td>21</td>\n",
       "      <td>Unmarried partner</td>\n",
       "      <td>1</td>\n",
       "      <td>Some college - no degree</td>\n",
       "      <td>Unemployed</td>\n",
       "      <td>$37500 - $49999</td>\n",
       "      <td>NaN</td>\n",
       "      <td>never</td>\n",
       "      <td>never</td>\n",
       "      <td>NaN</td>\n",
       "      <td>4~8</td>\n",
       "      <td>1~3</td>\n",
       "      <td>1</td>\n",
       "      <td>1</td>\n",
       "      <td>0</td>\n",
       "      <td>0</td>\n",
       "      <td>1</td>\n",
       "      <td>1</td>\n",
       "    </tr>\n",
       "    <tr>\n",
       "      <th>9</th>\n",
       "      <td>No Urgent Place</td>\n",
       "      <td>Kid(s)</td>\n",
       "      <td>Sunny</td>\n",
       "      <td>80</td>\n",
       "      <td>10AM</td>\n",
       "      <td>Bar</td>\n",
       "      <td>1d</td>\n",
       "      <td>Female</td>\n",
       "      <td>21</td>\n",
       "      <td>Unmarried partner</td>\n",
       "      <td>1</td>\n",
       "      <td>Some college - no degree</td>\n",
       "      <td>Unemployed</td>\n",
       "      <td>$37500 - $49999</td>\n",
       "      <td>NaN</td>\n",
       "      <td>never</td>\n",
       "      <td>never</td>\n",
       "      <td>NaN</td>\n",
       "      <td>4~8</td>\n",
       "      <td>1~3</td>\n",
       "      <td>1</td>\n",
       "      <td>1</td>\n",
       "      <td>0</td>\n",
       "      <td>0</td>\n",
       "      <td>1</td>\n",
       "      <td>0</td>\n",
       "    </tr>\n",
       "    <tr>\n",
       "      <th>10</th>\n",
       "      <td>No Urgent Place</td>\n",
       "      <td>Kid(s)</td>\n",
       "      <td>Sunny</td>\n",
       "      <td>80</td>\n",
       "      <td>2PM</td>\n",
       "      <td>Restaurant(&lt;20)</td>\n",
       "      <td>1d</td>\n",
       "      <td>Female</td>\n",
       "      <td>21</td>\n",
       "      <td>Unmarried partner</td>\n",
       "      <td>1</td>\n",
       "      <td>Some college - no degree</td>\n",
       "      <td>Unemployed</td>\n",
       "      <td>$37500 - $49999</td>\n",
       "      <td>NaN</td>\n",
       "      <td>never</td>\n",
       "      <td>never</td>\n",
       "      <td>NaN</td>\n",
       "      <td>4~8</td>\n",
       "      <td>1~3</td>\n",
       "      <td>1</td>\n",
       "      <td>0</td>\n",
       "      <td>0</td>\n",
       "      <td>0</td>\n",
       "      <td>1</td>\n",
       "      <td>1</td>\n",
       "    </tr>\n",
       "    <tr>\n",
       "      <th>11</th>\n",
       "      <td>No Urgent Place</td>\n",
       "      <td>Kid(s)</td>\n",
       "      <td>Sunny</td>\n",
       "      <td>55</td>\n",
       "      <td>2PM</td>\n",
       "      <td>Restaurant(&lt;20)</td>\n",
       "      <td>1d</td>\n",
       "      <td>Female</td>\n",
       "      <td>21</td>\n",
       "      <td>Unmarried partner</td>\n",
       "      <td>1</td>\n",
       "      <td>Some college - no degree</td>\n",
       "      <td>Unemployed</td>\n",
       "      <td>$37500 - $49999</td>\n",
       "      <td>NaN</td>\n",
       "      <td>never</td>\n",
       "      <td>never</td>\n",
       "      <td>NaN</td>\n",
       "      <td>4~8</td>\n",
       "      <td>1~3</td>\n",
       "      <td>1</td>\n",
       "      <td>1</td>\n",
       "      <td>0</td>\n",
       "      <td>0</td>\n",
       "      <td>1</td>\n",
       "      <td>1</td>\n",
       "    </tr>\n",
       "    <tr>\n",
       "      <th>12</th>\n",
       "      <td>No Urgent Place</td>\n",
       "      <td>Kid(s)</td>\n",
       "      <td>Sunny</td>\n",
       "      <td>55</td>\n",
       "      <td>6PM</td>\n",
       "      <td>Coffee House</td>\n",
       "      <td>2h</td>\n",
       "      <td>Female</td>\n",
       "      <td>21</td>\n",
       "      <td>Unmarried partner</td>\n",
       "      <td>1</td>\n",
       "      <td>Some college - no degree</td>\n",
       "      <td>Unemployed</td>\n",
       "      <td>$37500 - $49999</td>\n",
       "      <td>NaN</td>\n",
       "      <td>never</td>\n",
       "      <td>never</td>\n",
       "      <td>NaN</td>\n",
       "      <td>4~8</td>\n",
       "      <td>1~3</td>\n",
       "      <td>1</td>\n",
       "      <td>1</td>\n",
       "      <td>0</td>\n",
       "      <td>0</td>\n",
       "      <td>1</td>\n",
       "      <td>1</td>\n",
       "    </tr>\n",
       "    <tr>\n",
       "      <th>13</th>\n",
       "      <td>Home</td>\n",
       "      <td>Alone</td>\n",
       "      <td>Sunny</td>\n",
       "      <td>55</td>\n",
       "      <td>6PM</td>\n",
       "      <td>Bar</td>\n",
       "      <td>1d</td>\n",
       "      <td>Female</td>\n",
       "      <td>21</td>\n",
       "      <td>Unmarried partner</td>\n",
       "      <td>1</td>\n",
       "      <td>Some college - no degree</td>\n",
       "      <td>Unemployed</td>\n",
       "      <td>$37500 - $49999</td>\n",
       "      <td>NaN</td>\n",
       "      <td>never</td>\n",
       "      <td>never</td>\n",
       "      <td>NaN</td>\n",
       "      <td>4~8</td>\n",
       "      <td>1~3</td>\n",
       "      <td>1</td>\n",
       "      <td>0</td>\n",
       "      <td>0</td>\n",
       "      <td>1</td>\n",
       "      <td>0</td>\n",
       "      <td>1</td>\n",
       "    </tr>\n",
       "    <tr>\n",
       "      <th>14</th>\n",
       "      <td>Home</td>\n",
       "      <td>Alone</td>\n",
       "      <td>Sunny</td>\n",
       "      <td>55</td>\n",
       "      <td>6PM</td>\n",
       "      <td>Restaurant(20-50)</td>\n",
       "      <td>1d</td>\n",
       "      <td>Female</td>\n",
       "      <td>21</td>\n",
       "      <td>Unmarried partner</td>\n",
       "      <td>1</td>\n",
       "      <td>Some college - no degree</td>\n",
       "      <td>Unemployed</td>\n",
       "      <td>$37500 - $49999</td>\n",
       "      <td>NaN</td>\n",
       "      <td>never</td>\n",
       "      <td>never</td>\n",
       "      <td>NaN</td>\n",
       "      <td>4~8</td>\n",
       "      <td>1~3</td>\n",
       "      <td>1</td>\n",
       "      <td>1</td>\n",
       "      <td>0</td>\n",
       "      <td>0</td>\n",
       "      <td>1</td>\n",
       "      <td>1</td>\n",
       "    </tr>\n",
       "    <tr>\n",
       "      <th>15</th>\n",
       "      <td>Home</td>\n",
       "      <td>Alone</td>\n",
       "      <td>Sunny</td>\n",
       "      <td>80</td>\n",
       "      <td>6PM</td>\n",
       "      <td>Coffee House</td>\n",
       "      <td>2h</td>\n",
       "      <td>Female</td>\n",
       "      <td>21</td>\n",
       "      <td>Unmarried partner</td>\n",
       "      <td>1</td>\n",
       "      <td>Some college - no degree</td>\n",
       "      <td>Unemployed</td>\n",
       "      <td>$37500 - $49999</td>\n",
       "      <td>NaN</td>\n",
       "      <td>never</td>\n",
       "      <td>never</td>\n",
       "      <td>NaN</td>\n",
       "      <td>4~8</td>\n",
       "      <td>1~3</td>\n",
       "      <td>1</td>\n",
       "      <td>0</td>\n",
       "      <td>0</td>\n",
       "      <td>0</td>\n",
       "      <td>1</td>\n",
       "      <td>0</td>\n",
       "    </tr>\n",
       "    <tr>\n",
       "      <th>16</th>\n",
       "      <td>Work</td>\n",
       "      <td>Alone</td>\n",
       "      <td>Sunny</td>\n",
       "      <td>55</td>\n",
       "      <td>7AM</td>\n",
       "      <td>Coffee House</td>\n",
       "      <td>2h</td>\n",
       "      <td>Female</td>\n",
       "      <td>21</td>\n",
       "      <td>Unmarried partner</td>\n",
       "      <td>1</td>\n",
       "      <td>Some college - no degree</td>\n",
       "      <td>Unemployed</td>\n",
       "      <td>$37500 - $49999</td>\n",
       "      <td>NaN</td>\n",
       "      <td>never</td>\n",
       "      <td>never</td>\n",
       "      <td>NaN</td>\n",
       "      <td>4~8</td>\n",
       "      <td>1~3</td>\n",
       "      <td>1</td>\n",
       "      <td>1</td>\n",
       "      <td>1</td>\n",
       "      <td>0</td>\n",
       "      <td>1</td>\n",
       "      <td>1</td>\n",
       "    </tr>\n",
       "    <tr>\n",
       "      <th>17</th>\n",
       "      <td>Work</td>\n",
       "      <td>Alone</td>\n",
       "      <td>Sunny</td>\n",
       "      <td>55</td>\n",
       "      <td>7AM</td>\n",
       "      <td>Bar</td>\n",
       "      <td>1d</td>\n",
       "      <td>Female</td>\n",
       "      <td>21</td>\n",
       "      <td>Unmarried partner</td>\n",
       "      <td>1</td>\n",
       "      <td>Some college - no degree</td>\n",
       "      <td>Unemployed</td>\n",
       "      <td>$37500 - $49999</td>\n",
       "      <td>NaN</td>\n",
       "      <td>never</td>\n",
       "      <td>never</td>\n",
       "      <td>NaN</td>\n",
       "      <td>4~8</td>\n",
       "      <td>1~3</td>\n",
       "      <td>1</td>\n",
       "      <td>1</td>\n",
       "      <td>1</td>\n",
       "      <td>0</td>\n",
       "      <td>1</td>\n",
       "      <td>0</td>\n",
       "    </tr>\n",
       "    <tr>\n",
       "      <th>18</th>\n",
       "      <td>Work</td>\n",
       "      <td>Alone</td>\n",
       "      <td>Sunny</td>\n",
       "      <td>80</td>\n",
       "      <td>7AM</td>\n",
       "      <td>Restaurant(20-50)</td>\n",
       "      <td>1d</td>\n",
       "      <td>Female</td>\n",
       "      <td>21</td>\n",
       "      <td>Unmarried partner</td>\n",
       "      <td>1</td>\n",
       "      <td>Some college - no degree</td>\n",
       "      <td>Unemployed</td>\n",
       "      <td>$37500 - $49999</td>\n",
       "      <td>NaN</td>\n",
       "      <td>never</td>\n",
       "      <td>never</td>\n",
       "      <td>NaN</td>\n",
       "      <td>4~8</td>\n",
       "      <td>1~3</td>\n",
       "      <td>1</td>\n",
       "      <td>1</td>\n",
       "      <td>0</td>\n",
       "      <td>0</td>\n",
       "      <td>1</td>\n",
       "      <td>1</td>\n",
       "    </tr>\n",
       "    <tr>\n",
       "      <th>19</th>\n",
       "      <td>Work</td>\n",
       "      <td>Alone</td>\n",
       "      <td>Sunny</td>\n",
       "      <td>80</td>\n",
       "      <td>7AM</td>\n",
       "      <td>Carry out &amp; Take away</td>\n",
       "      <td>2h</td>\n",
       "      <td>Female</td>\n",
       "      <td>21</td>\n",
       "      <td>Unmarried partner</td>\n",
       "      <td>1</td>\n",
       "      <td>Some college - no degree</td>\n",
       "      <td>Unemployed</td>\n",
       "      <td>$37500 - $49999</td>\n",
       "      <td>NaN</td>\n",
       "      <td>never</td>\n",
       "      <td>never</td>\n",
       "      <td>NaN</td>\n",
       "      <td>4~8</td>\n",
       "      <td>1~3</td>\n",
       "      <td>1</td>\n",
       "      <td>0</td>\n",
       "      <td>0</td>\n",
       "      <td>1</td>\n",
       "      <td>0</td>\n",
       "      <td>1</td>\n",
       "    </tr>\n",
       "  </tbody>\n",
       "</table>\n",
       "</div>"
      ],
      "text/plain": [
       "        destination  passanger weather  temperature  time  \\\n",
       "0   No Urgent Place      Alone   Sunny           55   2PM   \n",
       "1   No Urgent Place  Friend(s)   Sunny           80  10AM   \n",
       "2   No Urgent Place  Friend(s)   Sunny           80  10AM   \n",
       "3   No Urgent Place  Friend(s)   Sunny           80   2PM   \n",
       "4   No Urgent Place  Friend(s)   Sunny           80   2PM   \n",
       "5   No Urgent Place  Friend(s)   Sunny           80   6PM   \n",
       "6   No Urgent Place  Friend(s)   Sunny           55   2PM   \n",
       "7   No Urgent Place     Kid(s)   Sunny           80  10AM   \n",
       "8   No Urgent Place     Kid(s)   Sunny           80  10AM   \n",
       "9   No Urgent Place     Kid(s)   Sunny           80  10AM   \n",
       "10  No Urgent Place     Kid(s)   Sunny           80   2PM   \n",
       "11  No Urgent Place     Kid(s)   Sunny           55   2PM   \n",
       "12  No Urgent Place     Kid(s)   Sunny           55   6PM   \n",
       "13             Home      Alone   Sunny           55   6PM   \n",
       "14             Home      Alone   Sunny           55   6PM   \n",
       "15             Home      Alone   Sunny           80   6PM   \n",
       "16             Work      Alone   Sunny           55   7AM   \n",
       "17             Work      Alone   Sunny           55   7AM   \n",
       "18             Work      Alone   Sunny           80   7AM   \n",
       "19             Work      Alone   Sunny           80   7AM   \n",
       "\n",
       "                   coupon expiration  gender age      maritalStatus  \\\n",
       "0         Restaurant(<20)         1d  Female  21  Unmarried partner   \n",
       "1            Coffee House         2h  Female  21  Unmarried partner   \n",
       "2   Carry out & Take away         2h  Female  21  Unmarried partner   \n",
       "3            Coffee House         2h  Female  21  Unmarried partner   \n",
       "4            Coffee House         1d  Female  21  Unmarried partner   \n",
       "5         Restaurant(<20)         2h  Female  21  Unmarried partner   \n",
       "6   Carry out & Take away         1d  Female  21  Unmarried partner   \n",
       "7         Restaurant(<20)         2h  Female  21  Unmarried partner   \n",
       "8   Carry out & Take away         2h  Female  21  Unmarried partner   \n",
       "9                     Bar         1d  Female  21  Unmarried partner   \n",
       "10        Restaurant(<20)         1d  Female  21  Unmarried partner   \n",
       "11        Restaurant(<20)         1d  Female  21  Unmarried partner   \n",
       "12           Coffee House         2h  Female  21  Unmarried partner   \n",
       "13                    Bar         1d  Female  21  Unmarried partner   \n",
       "14      Restaurant(20-50)         1d  Female  21  Unmarried partner   \n",
       "15           Coffee House         2h  Female  21  Unmarried partner   \n",
       "16           Coffee House         2h  Female  21  Unmarried partner   \n",
       "17                    Bar         1d  Female  21  Unmarried partner   \n",
       "18      Restaurant(20-50)         1d  Female  21  Unmarried partner   \n",
       "19  Carry out & Take away         2h  Female  21  Unmarried partner   \n",
       "\n",
       "    has_children                 education  occupation           income  car  \\\n",
       "0              1  Some college - no degree  Unemployed  $37500 - $49999  NaN   \n",
       "1              1  Some college - no degree  Unemployed  $37500 - $49999  NaN   \n",
       "2              1  Some college - no degree  Unemployed  $37500 - $49999  NaN   \n",
       "3              1  Some college - no degree  Unemployed  $37500 - $49999  NaN   \n",
       "4              1  Some college - no degree  Unemployed  $37500 - $49999  NaN   \n",
       "5              1  Some college - no degree  Unemployed  $37500 - $49999  NaN   \n",
       "6              1  Some college - no degree  Unemployed  $37500 - $49999  NaN   \n",
       "7              1  Some college - no degree  Unemployed  $37500 - $49999  NaN   \n",
       "8              1  Some college - no degree  Unemployed  $37500 - $49999  NaN   \n",
       "9              1  Some college - no degree  Unemployed  $37500 - $49999  NaN   \n",
       "10             1  Some college - no degree  Unemployed  $37500 - $49999  NaN   \n",
       "11             1  Some college - no degree  Unemployed  $37500 - $49999  NaN   \n",
       "12             1  Some college - no degree  Unemployed  $37500 - $49999  NaN   \n",
       "13             1  Some college - no degree  Unemployed  $37500 - $49999  NaN   \n",
       "14             1  Some college - no degree  Unemployed  $37500 - $49999  NaN   \n",
       "15             1  Some college - no degree  Unemployed  $37500 - $49999  NaN   \n",
       "16             1  Some college - no degree  Unemployed  $37500 - $49999  NaN   \n",
       "17             1  Some college - no degree  Unemployed  $37500 - $49999  NaN   \n",
       "18             1  Some college - no degree  Unemployed  $37500 - $49999  NaN   \n",
       "19             1  Some college - no degree  Unemployed  $37500 - $49999  NaN   \n",
       "\n",
       "      Bar CoffeeHouse CarryAway RestaurantLessThan20 Restaurant20To50  \\\n",
       "0   never       never       NaN                  4~8              1~3   \n",
       "1   never       never       NaN                  4~8              1~3   \n",
       "2   never       never       NaN                  4~8              1~3   \n",
       "3   never       never       NaN                  4~8              1~3   \n",
       "4   never       never       NaN                  4~8              1~3   \n",
       "5   never       never       NaN                  4~8              1~3   \n",
       "6   never       never       NaN                  4~8              1~3   \n",
       "7   never       never       NaN                  4~8              1~3   \n",
       "8   never       never       NaN                  4~8              1~3   \n",
       "9   never       never       NaN                  4~8              1~3   \n",
       "10  never       never       NaN                  4~8              1~3   \n",
       "11  never       never       NaN                  4~8              1~3   \n",
       "12  never       never       NaN                  4~8              1~3   \n",
       "13  never       never       NaN                  4~8              1~3   \n",
       "14  never       never       NaN                  4~8              1~3   \n",
       "15  never       never       NaN                  4~8              1~3   \n",
       "16  never       never       NaN                  4~8              1~3   \n",
       "17  never       never       NaN                  4~8              1~3   \n",
       "18  never       never       NaN                  4~8              1~3   \n",
       "19  never       never       NaN                  4~8              1~3   \n",
       "\n",
       "    toCoupon_GEQ5min  toCoupon_GEQ15min  toCoupon_GEQ25min  direction_same  \\\n",
       "0                  1                  0                  0               0   \n",
       "1                  1                  0                  0               0   \n",
       "2                  1                  1                  0               0   \n",
       "3                  1                  1                  0               0   \n",
       "4                  1                  1                  0               0   \n",
       "5                  1                  1                  0               0   \n",
       "6                  1                  1                  0               0   \n",
       "7                  1                  1                  0               0   \n",
       "8                  1                  1                  0               0   \n",
       "9                  1                  1                  0               0   \n",
       "10                 1                  0                  0               0   \n",
       "11                 1                  1                  0               0   \n",
       "12                 1                  1                  0               0   \n",
       "13                 1                  0                  0               1   \n",
       "14                 1                  1                  0               0   \n",
       "15                 1                  0                  0               0   \n",
       "16                 1                  1                  1               0   \n",
       "17                 1                  1                  1               0   \n",
       "18                 1                  1                  0               0   \n",
       "19                 1                  0                  0               1   \n",
       "\n",
       "    direction_opp  Y  \n",
       "0               1  1  \n",
       "1               1  0  \n",
       "2               1  1  \n",
       "3               1  0  \n",
       "4               1  0  \n",
       "5               1  1  \n",
       "6               1  1  \n",
       "7               1  1  \n",
       "8               1  1  \n",
       "9               1  0  \n",
       "10              1  1  \n",
       "11              1  1  \n",
       "12              1  1  \n",
       "13              0  1  \n",
       "14              1  1  \n",
       "15              1  0  \n",
       "16              1  1  \n",
       "17              1  0  \n",
       "18              1  1  \n",
       "19              0  1  "
      ]
     },
     "execution_count": 7,
     "metadata": {},
     "output_type": "execute_result"
    }
   ],
   "source": [
    "# Do some visual perusing\n",
    "data.head(20) #some other values were tried to visually inspect the data frame and get more familiarity with it\n",
    "#data.tail(80) #some other values were tried to visually inspect the data frame and get more familiarity with it"
   ]
  },
  {
   "cell_type": "markdown",
   "metadata": {},
   "source": [
    "We clearly see the NaNs in the 'car' column. What about the entries it has? Let's explore that:"
   ]
  },
  {
   "cell_type": "code",
   "execution_count": 8,
   "metadata": {},
   "outputs": [
    {
     "data": {
      "text/html": [
       "<div>\n",
       "<style scoped>\n",
       "    .dataframe tbody tr th:only-of-type {\n",
       "        vertical-align: middle;\n",
       "    }\n",
       "\n",
       "    .dataframe tbody tr th {\n",
       "        vertical-align: top;\n",
       "    }\n",
       "\n",
       "    .dataframe thead th {\n",
       "        text-align: right;\n",
       "    }\n",
       "</style>\n",
       "<table border=\"1\" class=\"dataframe\">\n",
       "  <thead>\n",
       "    <tr style=\"text-align: right;\">\n",
       "      <th></th>\n",
       "      <th>car</th>\n",
       "      <th>count</th>\n",
       "    </tr>\n",
       "  </thead>\n",
       "  <tbody>\n",
       "    <tr>\n",
       "      <th>0</th>\n",
       "      <td>Mazda5</td>\n",
       "      <td>22</td>\n",
       "    </tr>\n",
       "    <tr>\n",
       "      <th>1</th>\n",
       "      <td>Scooter and motorcycle</td>\n",
       "      <td>22</td>\n",
       "    </tr>\n",
       "    <tr>\n",
       "      <th>2</th>\n",
       "      <td>do not drive</td>\n",
       "      <td>22</td>\n",
       "    </tr>\n",
       "    <tr>\n",
       "      <th>3</th>\n",
       "      <td>Car that is too old to install Onstar :D</td>\n",
       "      <td>21</td>\n",
       "    </tr>\n",
       "    <tr>\n",
       "      <th>4</th>\n",
       "      <td>crossover</td>\n",
       "      <td>21</td>\n",
       "    </tr>\n",
       "  </tbody>\n",
       "</table>\n",
       "</div>"
      ],
      "text/plain": [
       "                                        car  count\n",
       "0                                    Mazda5     22\n",
       "1                    Scooter and motorcycle     22\n",
       "2                              do not drive     22\n",
       "3  Car that is too old to install Onstar :D     21\n",
       "4                                 crossover     21"
      ]
     },
     "execution_count": 8,
     "metadata": {},
     "output_type": "execute_result"
    }
   ],
   "source": [
    "# Lets check the entries in the 'car' column\n",
    "data.query('~car.isna()')[['car']].value_counts().reset_index()"
   ]
  },
  {
   "cell_type": "markdown",
   "metadata": {},
   "source": [
    "We see the entries are not that informative overall with the exception of the \"do not drive\" entries. Since the coupon program is targeting drivers only we should exclude those rows with people that do not drive. We'll do this in the next section"
   ]
  },
  {
   "cell_type": "markdown",
   "metadata": {},
   "source": [
    "Let's inspect the entries in the other user attribute columns that have missing values in order to see if there are problems with those entries:"
   ]
  },
  {
   "cell_type": "code",
   "execution_count": 9,
   "metadata": {},
   "outputs": [
    {
     "data": {
      "text/html": [
       "<div>\n",
       "<style scoped>\n",
       "    .dataframe tbody tr th:only-of-type {\n",
       "        vertical-align: middle;\n",
       "    }\n",
       "\n",
       "    .dataframe tbody tr th {\n",
       "        vertical-align: top;\n",
       "    }\n",
       "\n",
       "    .dataframe thead th {\n",
       "        text-align: right;\n",
       "    }\n",
       "</style>\n",
       "<table border=\"1\" class=\"dataframe\">\n",
       "  <thead>\n",
       "    <tr style=\"text-align: right;\">\n",
       "      <th></th>\n",
       "      <th>Bar</th>\n",
       "      <th>count</th>\n",
       "    </tr>\n",
       "  </thead>\n",
       "  <tbody>\n",
       "    <tr>\n",
       "      <th>0</th>\n",
       "      <td>never</td>\n",
       "      <td>5197</td>\n",
       "    </tr>\n",
       "    <tr>\n",
       "      <th>1</th>\n",
       "      <td>less1</td>\n",
       "      <td>3482</td>\n",
       "    </tr>\n",
       "    <tr>\n",
       "      <th>2</th>\n",
       "      <td>1~3</td>\n",
       "      <td>2473</td>\n",
       "    </tr>\n",
       "    <tr>\n",
       "      <th>3</th>\n",
       "      <td>4~8</td>\n",
       "      <td>1076</td>\n",
       "    </tr>\n",
       "    <tr>\n",
       "      <th>4</th>\n",
       "      <td>gt8</td>\n",
       "      <td>349</td>\n",
       "    </tr>\n",
       "  </tbody>\n",
       "</table>\n",
       "</div>"
      ],
      "text/plain": [
       "     Bar  count\n",
       "0  never   5197\n",
       "1  less1   3482\n",
       "2    1~3   2473\n",
       "3    4~8   1076\n",
       "4    gt8    349"
      ]
     },
     "execution_count": 9,
     "metadata": {},
     "output_type": "execute_result"
    }
   ],
   "source": [
    "data.query('~Bar.isna()')[['Bar']].value_counts().reset_index()"
   ]
  },
  {
   "cell_type": "code",
   "execution_count": 10,
   "metadata": {},
   "outputs": [
    {
     "data": {
      "text/html": [
       "<div>\n",
       "<style scoped>\n",
       "    .dataframe tbody tr th:only-of-type {\n",
       "        vertical-align: middle;\n",
       "    }\n",
       "\n",
       "    .dataframe tbody tr th {\n",
       "        vertical-align: top;\n",
       "    }\n",
       "\n",
       "    .dataframe thead th {\n",
       "        text-align: right;\n",
       "    }\n",
       "</style>\n",
       "<table border=\"1\" class=\"dataframe\">\n",
       "  <thead>\n",
       "    <tr style=\"text-align: right;\">\n",
       "      <th></th>\n",
       "      <th>CoffeeHouse</th>\n",
       "      <th>count</th>\n",
       "    </tr>\n",
       "  </thead>\n",
       "  <tbody>\n",
       "    <tr>\n",
       "      <th>0</th>\n",
       "      <td>less1</td>\n",
       "      <td>3385</td>\n",
       "    </tr>\n",
       "    <tr>\n",
       "      <th>1</th>\n",
       "      <td>1~3</td>\n",
       "      <td>3225</td>\n",
       "    </tr>\n",
       "    <tr>\n",
       "      <th>2</th>\n",
       "      <td>never</td>\n",
       "      <td>2962</td>\n",
       "    </tr>\n",
       "    <tr>\n",
       "      <th>3</th>\n",
       "      <td>4~8</td>\n",
       "      <td>1784</td>\n",
       "    </tr>\n",
       "    <tr>\n",
       "      <th>4</th>\n",
       "      <td>gt8</td>\n",
       "      <td>1111</td>\n",
       "    </tr>\n",
       "  </tbody>\n",
       "</table>\n",
       "</div>"
      ],
      "text/plain": [
       "  CoffeeHouse  count\n",
       "0       less1   3385\n",
       "1         1~3   3225\n",
       "2       never   2962\n",
       "3         4~8   1784\n",
       "4         gt8   1111"
      ]
     },
     "execution_count": 10,
     "metadata": {},
     "output_type": "execute_result"
    }
   ],
   "source": [
    "data.query('~CoffeeHouse.isna()')[['CoffeeHouse']].value_counts().reset_index()"
   ]
  },
  {
   "cell_type": "code",
   "execution_count": 11,
   "metadata": {},
   "outputs": [
    {
     "data": {
      "text/html": [
       "<div>\n",
       "<style scoped>\n",
       "    .dataframe tbody tr th:only-of-type {\n",
       "        vertical-align: middle;\n",
       "    }\n",
       "\n",
       "    .dataframe tbody tr th {\n",
       "        vertical-align: top;\n",
       "    }\n",
       "\n",
       "    .dataframe thead th {\n",
       "        text-align: right;\n",
       "    }\n",
       "</style>\n",
       "<table border=\"1\" class=\"dataframe\">\n",
       "  <thead>\n",
       "    <tr style=\"text-align: right;\">\n",
       "      <th></th>\n",
       "      <th>CarryAway</th>\n",
       "      <th>count</th>\n",
       "    </tr>\n",
       "  </thead>\n",
       "  <tbody>\n",
       "    <tr>\n",
       "      <th>0</th>\n",
       "      <td>1~3</td>\n",
       "      <td>4672</td>\n",
       "    </tr>\n",
       "    <tr>\n",
       "      <th>1</th>\n",
       "      <td>4~8</td>\n",
       "      <td>4258</td>\n",
       "    </tr>\n",
       "    <tr>\n",
       "      <th>2</th>\n",
       "      <td>less1</td>\n",
       "      <td>1856</td>\n",
       "    </tr>\n",
       "    <tr>\n",
       "      <th>3</th>\n",
       "      <td>gt8</td>\n",
       "      <td>1594</td>\n",
       "    </tr>\n",
       "    <tr>\n",
       "      <th>4</th>\n",
       "      <td>never</td>\n",
       "      <td>153</td>\n",
       "    </tr>\n",
       "  </tbody>\n",
       "</table>\n",
       "</div>"
      ],
      "text/plain": [
       "  CarryAway  count\n",
       "0       1~3   4672\n",
       "1       4~8   4258\n",
       "2     less1   1856\n",
       "3       gt8   1594\n",
       "4     never    153"
      ]
     },
     "execution_count": 11,
     "metadata": {},
     "output_type": "execute_result"
    }
   ],
   "source": [
    "data.query('~CarryAway.isna()')[['CarryAway']].value_counts().reset_index()"
   ]
  },
  {
   "cell_type": "code",
   "execution_count": 12,
   "metadata": {},
   "outputs": [
    {
     "data": {
      "text/html": [
       "<div>\n",
       "<style scoped>\n",
       "    .dataframe tbody tr th:only-of-type {\n",
       "        vertical-align: middle;\n",
       "    }\n",
       "\n",
       "    .dataframe tbody tr th {\n",
       "        vertical-align: top;\n",
       "    }\n",
       "\n",
       "    .dataframe thead th {\n",
       "        text-align: right;\n",
       "    }\n",
       "</style>\n",
       "<table border=\"1\" class=\"dataframe\">\n",
       "  <thead>\n",
       "    <tr style=\"text-align: right;\">\n",
       "      <th></th>\n",
       "      <th>RestaurantLessThan20</th>\n",
       "      <th>count</th>\n",
       "    </tr>\n",
       "  </thead>\n",
       "  <tbody>\n",
       "    <tr>\n",
       "      <th>0</th>\n",
       "      <td>1~3</td>\n",
       "      <td>5376</td>\n",
       "    </tr>\n",
       "    <tr>\n",
       "      <th>1</th>\n",
       "      <td>4~8</td>\n",
       "      <td>3580</td>\n",
       "    </tr>\n",
       "    <tr>\n",
       "      <th>2</th>\n",
       "      <td>less1</td>\n",
       "      <td>2093</td>\n",
       "    </tr>\n",
       "    <tr>\n",
       "      <th>3</th>\n",
       "      <td>gt8</td>\n",
       "      <td>1285</td>\n",
       "    </tr>\n",
       "    <tr>\n",
       "      <th>4</th>\n",
       "      <td>never</td>\n",
       "      <td>220</td>\n",
       "    </tr>\n",
       "  </tbody>\n",
       "</table>\n",
       "</div>"
      ],
      "text/plain": [
       "  RestaurantLessThan20  count\n",
       "0                  1~3   5376\n",
       "1                  4~8   3580\n",
       "2                less1   2093\n",
       "3                  gt8   1285\n",
       "4                never    220"
      ]
     },
     "execution_count": 12,
     "metadata": {},
     "output_type": "execute_result"
    }
   ],
   "source": [
    "data.query('~RestaurantLessThan20.isna()')[['RestaurantLessThan20']].value_counts().reset_index()"
   ]
  },
  {
   "cell_type": "code",
   "execution_count": 13,
   "metadata": {},
   "outputs": [
    {
     "data": {
      "text/html": [
       "<div>\n",
       "<style scoped>\n",
       "    .dataframe tbody tr th:only-of-type {\n",
       "        vertical-align: middle;\n",
       "    }\n",
       "\n",
       "    .dataframe tbody tr th {\n",
       "        vertical-align: top;\n",
       "    }\n",
       "\n",
       "    .dataframe thead th {\n",
       "        text-align: right;\n",
       "    }\n",
       "</style>\n",
       "<table border=\"1\" class=\"dataframe\">\n",
       "  <thead>\n",
       "    <tr style=\"text-align: right;\">\n",
       "      <th></th>\n",
       "      <th>Restaurant20To50</th>\n",
       "      <th>count</th>\n",
       "    </tr>\n",
       "  </thead>\n",
       "  <tbody>\n",
       "    <tr>\n",
       "      <th>0</th>\n",
       "      <td>less1</td>\n",
       "      <td>6077</td>\n",
       "    </tr>\n",
       "    <tr>\n",
       "      <th>1</th>\n",
       "      <td>1~3</td>\n",
       "      <td>3290</td>\n",
       "    </tr>\n",
       "    <tr>\n",
       "      <th>2</th>\n",
       "      <td>never</td>\n",
       "      <td>2136</td>\n",
       "    </tr>\n",
       "    <tr>\n",
       "      <th>3</th>\n",
       "      <td>4~8</td>\n",
       "      <td>728</td>\n",
       "    </tr>\n",
       "    <tr>\n",
       "      <th>4</th>\n",
       "      <td>gt8</td>\n",
       "      <td>264</td>\n",
       "    </tr>\n",
       "  </tbody>\n",
       "</table>\n",
       "</div>"
      ],
      "text/plain": [
       "  Restaurant20To50  count\n",
       "0            less1   6077\n",
       "1              1~3   3290\n",
       "2            never   2136\n",
       "3              4~8    728\n",
       "4              gt8    264"
      ]
     },
     "execution_count": 13,
     "metadata": {},
     "output_type": "execute_result"
    }
   ],
   "source": [
    "data.query('~Restaurant20To50.isna()')[['Restaurant20To50']].value_counts().reset_index()"
   ]
  },
  {
   "cell_type": "markdown",
   "metadata": {},
   "source": [
    "No problems with these entries. Nothing anomalous. "
   ]
  },
  {
   "cell_type": "markdown",
   "metadata": {},
   "source": [
    "3. Decide what to do about your missing data -- drop, replace, other..."
   ]
  },
  {
   "cell_type": "markdown",
   "metadata": {},
   "source": [
    "I will focus on the Bar and CoffeeHouse columns for the analyses below. Therefore I will  cleanup the dataframe taking this fact into account"
   ]
  },
  {
   "cell_type": "markdown",
   "metadata": {},
   "source": [
    "These are the cleanup actions I will take\n",
    "- Exclude rows with \"do not drive\" answers in the \"car\" column \n",
    "- Delete the 'car' column as it is not informative for the analyses I have in mind\n",
    "- Drop rows with NA/null entries in the Bar and coffeeHouse columns as the other user attribute columns with missing entries I will not use for this activity. Had that not be the case I would have dropped NA/null entries from those columns as well\n",
    "  "
   ]
  },
  {
   "cell_type": "code",
   "execution_count": 14,
   "metadata": {},
   "outputs": [
    {
     "data": {
      "text/plain": [
       "destination               0\n",
       "passanger                 0\n",
       "weather                   0\n",
       "temperature               0\n",
       "time                      0\n",
       "coupon                    0\n",
       "expiration                0\n",
       "gender                    0\n",
       "age                       0\n",
       "maritalStatus             0\n",
       "has_children              0\n",
       "education                 0\n",
       "occupation                0\n",
       "income                    0\n",
       "Bar                       0\n",
       "CoffeeHouse               0\n",
       "CarryAway               109\n",
       "RestaurantLessThan20     88\n",
       "Restaurant20To50        126\n",
       "toCoupon_GEQ5min          0\n",
       "toCoupon_GEQ15min         0\n",
       "toCoupon_GEQ25min         0\n",
       "direction_same            0\n",
       "direction_opp             0\n",
       "Y                         0\n",
       "dtype: int64"
      ]
     },
     "execution_count": 14,
     "metadata": {},
     "output_type": "execute_result"
    }
   ],
   "source": [
    "# Exclude rows with 'do not drive' answers in 'car' column\n",
    "data.query('car != \"do not drive\"', inplace = True)\n",
    "# Delete car column\n",
    "data.drop(['car'], axis=1, inplace = True)\n",
    "# Drop rows with na entries in the Bar and CoffeeHouse columns\n",
    "data.dropna(subset=['Bar', 'CoffeeHouse'], inplace = True)\n",
    "# Check results\n",
    "data.isna().sum()\n",
    "#data.info()"
   ]
  },
  {
   "cell_type": "markdown",
   "metadata": {},
   "source": [
    "4. What proportion of the total observations chose to accept the coupon? \n",
    "\n"
   ]
  },
  {
   "cell_type": "code",
   "execution_count": 15,
   "metadata": {},
   "outputs": [
    {
     "name": "stdout",
     "output_type": "stream",
     "text": [
      "The proportion of the total observations that chose to accept the coupon was 57.06 percent.\n"
     ]
    }
   ],
   "source": [
    "# We need to compute a percentage of 'yes' responses relative to the total number of observations\n",
    "number_observations = len(data[\"Y\"])\n",
    "number_yes = len(data.query('Y == 1'))\n",
    "proportion_accepted_percentage = 100*(number_yes/number_observations)\n",
    "print(f'The proportion of the total observations that chose to accept the coupon was{proportion_accepted_percentage: 0.2f} percent.')"
   ]
  },
  {
   "cell_type": "markdown",
   "metadata": {},
   "source": [
    "5. Use a bar plot to visualize the `coupon` column."
   ]
  },
  {
   "cell_type": "code",
   "execution_count": 16,
   "metadata": {},
   "outputs": [
    {
     "data": {
      "text/plain": [
       "([0, 1, 2, 3, 4],\n",
       " [Text(0, 0, 'Restaurant(<20)'),\n",
       "  Text(1, 0, 'Coffee House'),\n",
       "  Text(2, 0, 'Carry out & Take away'),\n",
       "  Text(3, 0, 'Bar'),\n",
       "  Text(4, 0, 'Restaurant(20-50)')])"
      ]
     },
     "execution_count": 16,
     "metadata": {},
     "output_type": "execute_result"
    },
    {
     "data": {
      "image/png": "[encoded data removed]",
      "text/plain": [
       "<Figure size 512.222x500 with 1 Axes>"
      ]
     },
     "metadata": {},
     "output_type": "display_data"
    }
   ],
   "source": [
    "# Bar plot in Seaborn\n",
    "#Use white grid\n",
    "sns.set_theme(style=\"whitegrid\")\n",
    "#Generate bar plot \n",
    "sns.catplot(data=data, x=\"coupon\", kind=\"count\")\n",
    "#Change size and rotate labels as they are long\n",
    "plt.xticks(fontsize=10, rotation = 90)"
   ]
  },
  {
   "cell_type": "markdown",
   "metadata": {},
   "source": [
    "6. Use a histogram to visualize the temperature column."
   ]
  },
  {
   "cell_type": "code",
   "execution_count": 17,
   "metadata": {},
   "outputs": [
    {
     "data": {
      "text/plain": [
       "Text(0.5, 1.0, 'Histogram of temperature')"
      ]
     },
     "execution_count": 17,
     "metadata": {},
     "output_type": "execute_result"
    },
    {
     "data": {
      "image/png": "[encoded data removed]",
      "text/plain": [
       "<Figure size 640x480 with 1 Axes>"
      ]
     },
     "metadata": {},
     "output_type": "display_data"
    }
   ],
   "source": [
    "# Histogram plot in seaborn\n",
    "#Use dark grid\n",
    "sns.set_theme(style=\"darkgrid\")\n",
    "#Generate histogram plot of temperature column\n",
    "sns.histplot(data=data, x=\"temperature\", binwidth=1)\n",
    "#Add title\n",
    "plt.title('Histogram of temperature')"
   ]
  },
  {
   "cell_type": "code",
   "execution_count": null,
   "metadata": {},
   "outputs": [],
   "source": []
  },
  {
   "cell_type": "markdown",
   "metadata": {},
   "source": [
    "**Investigating the Bar Coupons**\n",
    "\n",
    "Now, we will lead you through an exploration of just the bar related coupons.  \n",
    "\n",
    "1. Create a new `DataFrame` that contains just the bar coupons.\n"
   ]
  },
  {
   "cell_type": "code",
   "execution_count": 18,
   "metadata": {},
   "outputs": [],
   "source": [
    "df_bar = data.query('coupon ==\"Bar\"')"
   ]
  },
  {
   "cell_type": "markdown",
   "metadata": {},
   "source": [
    "2. What proportion of bar coupons were accepted?\n"
   ]
  },
  {
   "cell_type": "code",
   "execution_count": 19,
   "metadata": {},
   "outputs": [
    {
     "name": "stdout",
     "output_type": "stream",
     "text": [
      "The proportion of bar coupons that were accepted was  41.19 percent.\n"
     ]
    }
   ],
   "source": [
    "number_rows = len(df_bar)\n",
    "number_yes = len(df_bar.query('Y == 1'))\n",
    "number_no = len(df_bar.query('Y == 0'))\n",
    "proportion_accepted_percentage = 100*(number_yes/number_rows)\n",
    "print(f'The proportion of bar coupons that were accepted was {proportion_accepted_percentage: 0.2f} percent.')"
   ]
  },
  {
   "cell_type": "markdown",
   "metadata": {},
   "source": [
    "3. Compare the acceptance rate between those who went to a bar 3 or fewer times a month to those who went more.\n"
   ]
  },
  {
   "cell_type": "code",
   "execution_count": 20,
   "metadata": {},
   "outputs": [
    {
     "name": "stdout",
     "output_type": "stream",
     "text": [
      " The acceptance rate for individuals who went to a bar 3 or fewer times a month was 33.86 percent.\n",
      " The acceptance rate for individuals who went to a bar more than 3 times a month was 76.29 percent.\n",
      " The difference between the two groups was 42.43 percent.\n"
     ]
    }
   ],
   "source": [
    "df_went_to_bar_3_or_fewer_times = df_bar.query('Bar ==\"never\" or Bar ==\"Less1\" or Bar ==\"1~3\"')\n",
    "df_went_to_bar_3_or_fewer_times_acceptance_rate_percentage = 100*(len(df_went_to_bar_3_or_fewer_times.query('Y == 1'))/len(df_went_to_bar_3_or_fewer_times))\n",
    "\n",
    "df_went_to_bar_more_than_3_times = df_bar.query('Bar ==\"4~8\" or Bar ==\"gt8\"')\n",
    "df_went_to_bar_more_than_3_times_acceptance_rate_percentage = 100*(len(df_went_to_bar_more_than_3_times.query('Y == 1'))/len(df_went_to_bar_more_than_3_times))\n",
    "\n",
    "bar_group_attendance_percentage_difference = df_went_to_bar_more_than_3_times_acceptance_rate_percentage - df_went_to_bar_3_or_fewer_times_acceptance_rate_percentage\n",
    "\n",
    "print(f' The acceptance rate for individuals who went to a bar 3 or fewer times a month was{df_went_to_bar_3_or_fewer_times_acceptance_rate_percentage: 0.2f} percent.\\n',\n",
    "     f'The acceptance rate for individuals who went to a bar more than 3 times a month was{df_went_to_bar_more_than_3_times_acceptance_rate_percentage: 0.2f} percent.\\n',\n",
    "     f'The difference between the two groups was{bar_group_attendance_percentage_difference: 0.2f} percent.')"
   ]
  },
  {
   "cell_type": "markdown",
   "metadata": {},
   "source": [
    "4. Compare the acceptance rate between drivers who go to a bar more than once a month and are over the age of 25 to the all others.  Is there a difference?\n"
   ]
  },
  {
   "cell_type": "code",
   "execution_count": 21,
   "metadata": {},
   "outputs": [
    {
     "name": "stdout",
     "output_type": "stream",
     "text": [
      " The acceptance rate for individuals who went to a bar more than once a month and who were over the age of 25 was 68.54 percent.\n",
      " The acceptance rate for all other individuals was 39.45 percent.\n",
      " The difference between the two groups was 29.09 percent.\n"
     ]
    }
   ],
   "source": [
    "df_over25_went_to_bar_more_than_once_a_month = df_bar.query('(Bar ==\"1~3\" or Bar ==\"4~8\" or Bar ==\"gt8\") and (age != \"21\" or age != \"below21\")')\n",
    "df_over25_went_to_bar_more_than_once_a_month_acceptance_rate_percentage = 100*(len(df_over25_went_to_bar_more_than_once_a_month.query('Y == 1'))/len(df_over25_went_to_bar_more_than_once_a_month))\n",
    "\n",
    "all_others = df_bar.query('(Bar ==\"never\" or Bar ==\"less1\") and (age == \"21\" or age == \"below21\")')\n",
    "all_others_acceptance_rate_percentage = 100*(len(all_others.query('Y == 1'))/len(all_others))\n",
    "\n",
    "bar_group_attendance_percentage_difference = df_over25_went_to_bar_more_than_once_a_month_acceptance_rate_percentage - all_others_acceptance_rate_percentage\n",
    "\n",
    "print(f' The acceptance rate for individuals who went to a bar more than once a month and who were over the age of 25 was{df_over25_went_to_bar_more_than_once_a_month_acceptance_rate_percentage: 0.2f} percent.\\n',\n",
    "     f'The acceptance rate for all other individuals was{all_others_acceptance_rate_percentage: 0.2f} percent.\\n',\n",
    "     f'The difference between the two groups was{bar_group_attendance_percentage_difference: 0.2f} percent.')\n"
   ]
  },
  {
   "cell_type": "markdown",
   "metadata": {},
   "source": [
    "5. Use the same process to compare the acceptance rate between drivers who go to bars more than once a month and had passengers that were not a kid and had occupations other than farming, fishing, or forestry. \n"
   ]
  },
  {
   "cell_type": "code",
   "execution_count": 22,
   "metadata": {},
   "outputs": [
    {
     "name": "stdout",
     "output_type": "stream",
     "text": [
      " The acceptance rate for individuals who went to a bar more than once a month was 68.54 percent.\n",
      " The acceptance rate for individuals who had passengers that were not a kid was 43.51 percent.\n",
      " The acceptance rate for individuals who had passengers that had occupations other than farming, fishing, or forestry was 41.18 percent.\n",
      "\n"
     ]
    }
   ],
   "source": [
    "df_went_to_bar_more_than_once_a_month = df_bar.query('Bar ==\"1~3\" or Bar ==\"4~8\" or Bar ==\"gt8\"')\n",
    "df_went_to_bar_more_than_once_a_month_acceptance_rate_percentage = 100*(len(df_went_to_bar_more_than_once_a_month.query('Y == 1'))/len(df_went_to_bar_more_than_once_a_month))\n",
    "\n",
    "df_had_passanger_not_a_kid = df_bar.query('passanger != \"Kid(s)\"') \n",
    "df_had_passanger_not_a_kid_acceptance_rate_percentage = 100*(len(df_had_passanger_not_a_kid.query('Y == 1'))/len(df_had_passanger_not_a_kid))\n",
    "\n",
    "df_had_occupation_not_farming = df_bar.query('occupation != \"Farming Fishing & Forestry\"') \n",
    "df_had_occupation_not_farming_acceptance_rate_percentage = 100*(len(df_had_occupation_not_farming.query('Y == 1'))/len(df_had_occupation_not_farming))\n",
    "\n",
    "print(f' The acceptance rate for individuals who went to a bar more than once a month was{df_went_to_bar_more_than_once_a_month_acceptance_rate_percentage: 0.2f} percent.\\n',\n",
    "     f'The acceptance rate for individuals who had passengers that were not a kid was{df_had_passanger_not_a_kid_acceptance_rate_percentage: 0.2f} percent.\\n',\n",
    "     f'The acceptance rate for individuals who had passengers that had occupations other than farming, fishing, or forestry was{df_had_occupation_not_farming_acceptance_rate_percentage: 0.2f} percent.\\n')"
   ]
  },
  {
   "cell_type": "markdown",
   "metadata": {},
   "source": [
    "I find the wording of the question ambiguous as it does not clearly distinguish the groups to be compared. An alternative interpretation could be a progressive aggregation of customer characteristics. I will do that analysis below just in case my interpretation above is not correct. Therefore I will compare the following groups:\n",
    "- drivers who go to bars more than once a month \n",
    "- drivers who go to bars more than once a month and had passengers that were not a kid\n",
    "- drivers who go to bars more than once a month and had passengers that were not a kid and had occupations other than farming, fishing, or forestry"
   ]
  },
  {
   "cell_type": "code",
   "execution_count": 23,
   "metadata": {},
   "outputs": [
    {
     "name": "stdout",
     "output_type": "stream",
     "text": [
      " The acceptance rate for individuals who went to a bar more than once a month was 68.54 percent.\n",
      " The acceptance rate for individuals who went to a bar more than once a month and had passengers that were not a kid was 70.96 percent.\n",
      " The acceptance rate for individuals who went to a bar more than once a month and had passengers that were not a kid and had occupations other than farming, fishing, or forestry was 70.96 percent.\n",
      "\n"
     ]
    }
   ],
   "source": [
    "df_went_to_bar_more_than_once_a_month = df_bar.query('Bar ==\"1~3\" or Bar ==\"4~8\" or Bar ==\"gt8\"')\n",
    "df_went_to_bar_more_than_once_a_month_acceptance_rate_percentage = 100*(len(df_went_to_bar_more_than_once_a_month.query('Y == 1'))/len(df_went_to_bar_more_than_once_a_month))\n",
    "\n",
    "df_went_to_bar_more_than_once_a_month_had_passanger_not_a_kid = df_bar.query('(Bar ==\"1~3\" or Bar ==\"4~8\" or Bar ==\"gt8\") and passanger != \"Kid(s)\"') \n",
    "df_went_to_bar_more_than_once_a_month_had_passanger_not_a_kid_acceptance_rate_percentage = 100*(len(df_went_to_bar_more_than_once_a_month_had_passanger_not_a_kid.query('Y == 1'))/len(df_went_to_bar_more_than_once_a_month_had_passanger_not_a_kid))\n",
    "\n",
    "df_aggregate_3_conditions = df_went_to_bar_more_than_once_a_month_had_passanger_not_a_kid.query('occupation != \"Farming Fishing & Forestry\"') \n",
    "df_aggregate_3_conditions_acceptance_rate_percentage = 100*(len(df_aggregate_3_conditions.query('Y == 1'))/len(df_aggregate_3_conditions))\n",
    "\n",
    "print(f' The acceptance rate for individuals who went to a bar more than once a month was{df_went_to_bar_more_than_once_a_month_acceptance_rate_percentage: 0.2f} percent.\\n',\n",
    "     f'The acceptance rate for individuals who went to a bar more than once a month and had passengers that were not a kid was{df_went_to_bar_more_than_once_a_month_had_passanger_not_a_kid_acceptance_rate_percentage: 0.2f} percent.\\n',\n",
    "     f'The acceptance rate for individuals who went to a bar more than once a month and had passengers that were not a kid and had occupations other than farming, fishing, or forestry was{df_aggregate_3_conditions_acceptance_rate_percentage: 0.2f} percent.\\n')\n"
   ]
  },
  {
   "cell_type": "markdown",
   "metadata": {},
   "source": [
    "6. Compare the acceptance rates between those drivers who:\n",
    "\n",
    "- go to bars more than once a month, had passengers that were not a kid, and were not widowed *OR*\n",
    "- go to bars more than once a month and are under the age of 30 *OR*\n",
    "- go to cheap restaurants more than 4 times a month and income is less than 50K. \n",
    "\n"
   ]
  },
  {
   "cell_type": "code",
   "execution_count": 24,
   "metadata": {},
   "outputs": [
    {
     "name": "stdout",
     "output_type": "stream",
     "text": [
      " The acceptance rate for individuals who went to a bar more than once a month was 68.54 percent.\n",
      " The acceptance rate for individuals who are under the age of 30 was 49.09 percent.\n",
      " The difference between the two groups was 19.45 percent.\n"
     ]
    }
   ],
   "source": [
    "# Compare the acceptance rates between those drivers who go to bars more than once a month and are under the age of 30\n",
    "df_went_to_bar_more_than_once_a_month = df_bar.query('Bar ==\"1~3\" or Bar ==\"4~8\" or Bar ==\"gt8\"')\n",
    "df_went_to_bar_more_than_once_a_month_acceptance_rate_percentage = 100*(len(df_went_to_bar_more_than_once_a_month.query('Y == 1'))/len(df_went_to_bar_more_than_once_a_month))\n",
    "\n",
    "df_under30 = df_bar.query('age == \"below21\" or age == \"21\" or age == \"26\"') \n",
    "df_under30_acceptance_rate_percentage = 100*(len(df_under30.query('Y == 1'))/len(df_under30))\n",
    "\n",
    "bar_group_attendance_percentage_difference = df_went_to_bar_more_than_once_a_month_acceptance_rate_percentage - df_under30_acceptance_rate_percentage\n",
    "\n",
    "print(f' The acceptance rate for individuals who went to a bar more than once a month was{df_went_to_bar_more_than_once_a_month_acceptance_rate_percentage: 0.2f} percent.\\n',\n",
    "     f'The acceptance rate for individuals who are under the age of 30 was{df_under30_acceptance_rate_percentage: 0.2f} percent.\\n',\n",
    "     f'The difference between the two groups was{bar_group_attendance_percentage_difference: 0.2f} percent.')\n"
   ]
  },
  {
   "cell_type": "markdown",
   "metadata": {},
   "source": [
    "Again I find the wording of the question ambiguous as it does not clearly distinguish the groups to be compared. An alternative interpretation could be a progressive aggregation of customer characteristics. I will do that analysis below just in case my interpretation above is not correct. Therefore I will compare the following groups:\n",
    "\n",
    "- drivers who go to bars more than once a month\n",
    "- drivers who go to bars more than once a month and are under the age of 30"
   ]
  },
  {
   "cell_type": "code",
   "execution_count": 25,
   "metadata": {},
   "outputs": [
    {
     "name": "stdout",
     "output_type": "stream",
     "text": [
      " The acceptance rate for individuals who went to a bar more than once a month was 68.54 percent.\n",
      " The acceptance rate for individuals who went to a bar more than once a month and are under the age of 30 was 71.76 percent.\n",
      " The difference between the two groups was  3.23 percent.\n"
     ]
    }
   ],
   "source": [
    "# Compare the acceptance rates between those drivers who go to bars more than once a month and are under the age of 30\n",
    "df_went_to_bar_more_than_once_a_month = df_bar.query('Bar ==\"1~3\" or Bar ==\"4~8\" or Bar ==\"gt8\"')\n",
    "df_went_to_bar_more_than_once_a_month_acceptance_rate_percentage = 100*(len(df_went_to_bar_more_than_once_a_month.query('Y == 1'))/len(df_went_to_bar_more_than_once_a_month))\n",
    "\n",
    "df_went_to_bar_more_than_once_a_month_under_30 = df_went_to_bar_more_than_once_a_month.query('age == \"below21\" or age == \"21\" or age == \"26\"') \n",
    "df_went_to_bar_more_than_once_a_month_under_30_rate_percentage = 100*(len(df_went_to_bar_more_than_once_a_month_under_30.query('Y == 1'))/len(df_went_to_bar_more_than_once_a_month_under_30))\n",
    "\n",
    "bar_group_attendance_percentage_difference = df_went_to_bar_more_than_once_a_month_under_30_rate_percentage - df_went_to_bar_more_than_once_a_month_acceptance_rate_percentage\n",
    "\n",
    "print(f' The acceptance rate for individuals who went to a bar more than once a month was{df_went_to_bar_more_than_once_a_month_acceptance_rate_percentage: 0.2f} percent.\\n',\n",
    "     f'The acceptance rate for individuals who went to a bar more than once a month and are under the age of 30 was{df_went_to_bar_more_than_once_a_month_under_30_rate_percentage: 0.2f} percent.\\n',\n",
    "     f'The difference between the two groups was {bar_group_attendance_percentage_difference: 0.2f} percent.')"
   ]
  },
  {
   "cell_type": "markdown",
   "metadata": {},
   "source": [
    "7.  Based on these observations, what do you hypothesize about drivers who accepted the bar coupons?"
   ]
  },
  {
   "cell_type": "markdown",
   "metadata": {},
   "source": [
    "My hypothesis is the group that accepts bar coupons the most is under 30 years and goes to bars more than once a month\n",
    "\n",
    "This hypothesis seems to be supported by the visualization below computed with Seaborn that looks at the influences of age and frequency of visits :\n"
   ]
  },
  {
   "cell_type": "code",
   "execution_count": 26,
   "metadata": {},
   "outputs": [
    {
     "data": {
      "text/plain": [
       "<seaborn.axisgrid.FacetGrid at 0x202b0a805f0>"
      ]
     },
     "execution_count": 26,
     "metadata": {},
     "output_type": "execute_result"
    },
    {
     "data": {
      "image/png": "[encoded data removed]",
      "text/plain": [
       "<Figure size 4063.5x500 with 8 Axes>"
      ]
     },
     "metadata": {},
     "output_type": "display_data"
    }
   ],
   "source": [
    "#Generate catplot of individuals who go to bars more than once a month categorized by age group and coupon acceptance\n",
    "sns.catplot(data=df_went_to_bar_more_than_once_a_month, x=\"Bar\", kind=\"count\", hue='Y', col='age', stat='percent')"
   ]
  },
  {
   "cell_type": "markdown",
   "metadata": {},
   "source": [
    "We can see the largest acceptance rates for individuals of ages 21 and 26 years, all under 30 years old "
   ]
  },
  {
   "cell_type": "code",
   "execution_count": null,
   "metadata": {},
   "outputs": [],
   "source": []
  },
  {
   "attachments": {},
   "cell_type": "markdown",
   "metadata": {},
   "source": [
    "### Independent Investigation\n",
    "\n",
    "Using the bar coupon example as motivation, you are to explore one of the other coupon groups and try to determine the characteristics of passengers who accept the coupons.  \n",
    "\n",
    "**Investigating the Coffee House Coupons**\n",
    "\n",
    "I will follow a similar approach as the one suggested for Bar coupons and apply that framework to analyzing Coffee House coupons\n",
    "\n",
    "1. Create a new `DataFrame` that contains just the coffee house coupons.\n"
   ]
  },
  {
   "cell_type": "code",
   "execution_count": 27,
   "metadata": {},
   "outputs": [],
   "source": [
    "df_coffee_house = data.query('coupon ==\"Coffee House\"')"
   ]
  },
  {
   "cell_type": "markdown",
   "metadata": {},
   "source": [
    "2. What proportion of coffee house coupons were accepted?\n"
   ]
  },
  {
   "cell_type": "code",
   "execution_count": 28,
   "metadata": {},
   "outputs": [
    {
     "name": "stdout",
     "output_type": "stream",
     "text": [
      "The proportion of coffee house coupons that were accepted was  50.04 percent.\n"
     ]
    }
   ],
   "source": [
    "number_rows = len(df_coffee_house)\n",
    "number_yes = len(df_coffee_house.query('Y == 1'))\n",
    "number_no = len(df_coffee_house.query('Y == 0'))\n",
    "proportion_accepted_percentage = 100*(number_yes/number_rows)\n",
    "print(f'The proportion of coffee house coupons that were accepted was {proportion_accepted_percentage: 0.2f} percent.')"
   ]
  },
  {
   "cell_type": "markdown",
   "metadata": {},
   "source": [
    "Interestingly this is significantly higher (20+%) than bar coupons "
   ]
  },
  {
   "cell_type": "markdown",
   "metadata": {},
   "source": [
    "3. Compare the acceptance rate between those who went to a coffee house 3 or fewer times a month to those who went more. "
   ]
  },
  {
   "cell_type": "markdown",
   "metadata": {},
   "source": [
    "I will also explore the acceptance rate for those who visited a coffee house more than once a month"
   ]
  },
  {
   "cell_type": "code",
   "execution_count": 29,
   "metadata": {},
   "outputs": [
    {
     "name": "stdout",
     "output_type": "stream",
     "text": [
      " The acceptance rate for individuals who went to a Coffee House 3 or fewer times a month was 43.12 percent.\n",
      " The acceptance rate for individuals who went to a Coffee House more than once a month was 50.04 percent.\n",
      " The acceptance rate for individuals who went to a Coffee House more than 3 times a month was 67.50 percent\n"
     ]
    }
   ],
   "source": [
    "df_went_to_ch_3_or_fewer_times = df_coffee_house.query('CoffeeHouse ==\"never\" or CoffeeHouse ==\"Less1\" or CoffeeHouse ==\"1~3\"')\n",
    "df_went_to_ch_3_or_fewer_times_acceptance_rate_percentage = 100*(len(df_went_to_ch_3_or_fewer_times.query('Y == 1'))/len(df_went_to_ch_3_or_fewer_times))\n",
    "\n",
    "df_went_to_ch_more_than_3_times = df_coffee_house.query('CoffeeHouse ==\"4~8\" or CoffeeHouse ==\"gt8\"')\n",
    "df_went_to_ch_more_than_3_times_acceptance_rate_percentage = 100*(len(df_went_to_ch_more_than_3_times.query('Y == 1'))/len(df_went_to_ch_more_than_3_times))\n",
    "\n",
    "df_went_to_ch_more_than_1_times = df_coffee_house.query('CoffeeHouse !=\"never\" or CoffeeHouse !=\"Less1\"')\n",
    "df_went_to_ch_more_than_1_times_acceptance_rate_percentage = 100*(len(df_went_to_ch_more_than_1_times.query('Y == 1'))/len(df_went_to_ch_more_than_1_times))\n",
    "\n",
    "CoffeeHouse_group_attendance_percentage_difference = df_went_to_ch_more_than_3_times_acceptance_rate_percentage - df_went_to_ch_3_or_fewer_times_acceptance_rate_percentage\n",
    "\n",
    "print(f' The acceptance rate for individuals who went to a Coffee House 3 or fewer times a month was{df_went_to_ch_3_or_fewer_times_acceptance_rate_percentage: 0.2f} percent.\\n',\n",
    "     f'The acceptance rate for individuals who went to a Coffee House more than once a month was{df_went_to_ch_more_than_1_times_acceptance_rate_percentage: 0.2f} percent.\\n',\n",
    "     f'The acceptance rate for individuals who went to a Coffee House more than 3 times a month was{df_went_to_ch_more_than_3_times_acceptance_rate_percentage: 0.2f} percent')"
   ]
  },
  {
   "cell_type": "markdown",
   "metadata": {},
   "source": [
    "This result suggests individuals who went to a Coffee House more than 3 times a month are a key group that can serve as a baseline for this analysis. Will explore further below. "
   ]
  },
  {
   "cell_type": "markdown",
   "metadata": {},
   "source": [
    "4. Compare the acceptance rate between drivers who go to a Cofee House more than 3 times a month and are below the age of 25 to those 26 and older.\n",
    "Will also compare additional groups as shown in the code below:"
   ]
  },
  {
   "cell_type": "code",
   "execution_count": 30,
   "metadata": {},
   "outputs": [
    {
     "name": "stdout",
     "output_type": "stream",
     "text": [
      " The acceptance rate for individuals who went to a CoffeeHouse more than 3 times a month was 67.50 percent.\n",
      " The acceptance rate for individuals who went to a CoffeeHouse more than 3 times a month and are below the age of 25 was 74.90 percent.\n",
      " The acceptance rate for individuals who went to a CoffeeHouse more than 3 times a month and are age 26 and older was 67.50 percent.\n",
      " The acceptance rate for individuals who went to a CoffeeHouse more than 3 times a month and are age below 25 and 50plus was 72.71 percent.\n"
     ]
    }
   ],
   "source": [
    "df_went_to_ch_more_than_3_times = df_coffee_house.query('CoffeeHouse ==\"4~8\" or CoffeeHouse ==\"gt8\"')\n",
    "df_went_to_ch_more_than_3_times_acceptance_rate_percentage = 100*(len(df_went_to_ch_more_than_3_times.query('Y == 1'))/len(df_went_to_ch_more_than_3_times))\n",
    "\n",
    "df_below25_went_to_ch_more_than_3_times = df_coffee_house.query('(CoffeeHouse ==\"4~8\" or CoffeeHouse ==\"gt8\") and (age == \"21\" or age == \"below21\")')\n",
    "df_below25_went_to_ch_more_than_3_times_acceptance_rate_percentage = 100*(len(df_below25_went_to_ch_more_than_3_times.query('Y == 1'))/len(df_below25_went_to_ch_more_than_3_times))\n",
    "\n",
    "df_26andover_went_to_ch_more_than_3_times = df_coffee_house.query('(CoffeeHouse ==\"4~8\" or CoffeeHouse ==\"gt8\") and (age != \"21\" or age != \"below21\")')\n",
    "df_26andover_went_to_ch_more_than_3_times_acceptance_rate_percentage = 100*(len(df_26andover_went_to_ch_more_than_3_times.query('Y == 1'))/len(df_26andover_went_to_ch_more_than_3_times))\n",
    "\n",
    "df_below25and50plus_went_to_ch_more_than_3_times = df_coffee_house.query('(CoffeeHouse ==\"4~8\" or CoffeeHouse ==\"gt8\") and (age == \"21\" or age == \"below21\"or age == \"50plus\")')\n",
    "df_below25and50plus_went_to_ch_more_than_3_times_acceptance_rate_percentage = 100*(len(df_below25and50plus_went_to_ch_more_than_3_times.query('Y == 1'))/len(df_below25and50plus_went_to_ch_more_than_3_times))\n",
    "\n",
    "print(f' The acceptance rate for individuals who went to a CoffeeHouse more than 3 times a month was{df_went_to_ch_more_than_3_times_acceptance_rate_percentage: 0.2f} percent.\\n',\n",
    "     f'The acceptance rate for individuals who went to a CoffeeHouse more than 3 times a month and are below the age of 25 was{df_below25_went_to_ch_more_than_3_times_acceptance_rate_percentage: 0.2f} percent.\\n',\n",
    "     f'The acceptance rate for individuals who went to a CoffeeHouse more than 3 times a month and are age 26 and older was{df_26andover_went_to_ch_more_than_3_times_acceptance_rate_percentage: 0.2f} percent.\\n',\n",
    "     f'The acceptance rate for individuals who went to a CoffeeHouse more than 3 times a month and are age below 25 and 50plus was{df_below25and50plus_went_to_ch_more_than_3_times_acceptance_rate_percentage: 0.2f} percent.')\n"
   ]
  },
  {
   "cell_type": "markdown",
   "metadata": {},
   "source": [
    "The acceptance rate for individuals who went to a CoffeeHouse more than 3 times a month and are below the age of 25 was the highest among these groups. We can visualize this fact with the help of a barplot:"
   ]
  },
  {
   "cell_type": "code",
   "execution_count": 31,
   "metadata": {},
   "outputs": [
    {
     "data": {
      "text/plain": [
       "Text(0.5, 1.0, 'Individuals going to Coffee Shops > 3 times/month')"
      ]
     },
     "execution_count": 31,
     "metadata": {},
     "output_type": "execute_result"
    },
    {
     "data": {
      "image/png": "[encoded data removed]",
      "text/plain": [
       "<Figure size 563.5x500 with 1 Axes>"
      ]
     },
     "metadata": {},
     "output_type": "display_data"
    }
   ],
   "source": [
    "# Count plot in seaborn of grouped by age and coupon acceptance \n",
    "sns.catplot(data=df_went_to_ch_more_than_3_times, x=\"age\", kind=\"count\", hue='Y', stat='percent')\n",
    "# Include descriptive title\n",
    "plt.title('Individuals going to Coffee Shops > 3 times/month')"
   ]
  },
  {
   "cell_type": "markdown",
   "metadata": {},
   "source": [
    "Let's explore if gender has a significant influence on coupon acceptance for individuals who went to a CoffeeHouse more than 3 times a month and are below the age of 25. Will use a cat plot for visualization:"
   ]
  },
  {
   "cell_type": "code",
   "execution_count": 32,
   "metadata": {},
   "outputs": [
    {
     "name": "stdout",
     "output_type": "stream",
     "text": [
      " The acceptance rate for individuals who went to a CoffeeHouse more than 3 times a month and are below the age of 25 and male was 73.51 percent.\n",
      " The acceptance rate for individuals who went to a CoffeeHouse more than 3 times a month and are below the age of 25 and female was 76.79 percent.\n"
     ]
    },
    {
     "data": {
      "text/plain": [
       "Text(0.5, 1.0, 'Individuals under 25 going to Coffee Shops > 3 times/month')"
      ]
     },
     "execution_count": 32,
     "metadata": {},
     "output_type": "execute_result"
    },
    {
     "data": {
      "image/png": "[encoded data removed]",
      "text/plain": [
       "<Figure size 563.5x500 with 1 Axes>"
      ]
     },
     "metadata": {},
     "output_type": "display_data"
    }
   ],
   "source": [
    "df_below25_male_went_to_ch_more_than_3_times = df_coffee_house.query('(CoffeeHouse ==\"4~8\" or CoffeeHouse ==\"gt8\") and (age == \"21\" or age == \"below21\") and gender ==\"Male\"')\n",
    "df_below25_male_went_to_ch_more_than_3_times_acceptance_rate_percentage = 100*(len(df_below25_male_went_to_ch_more_than_3_times.query('Y == 1'))/len(df_below25_male_went_to_ch_more_than_3_times))\n",
    "\n",
    "df_below25_female_went_to_ch_more_than_3_times = df_coffee_house.query('(CoffeeHouse ==\"4~8\" or CoffeeHouse ==\"gt8\") and (age == \"21\" or age == \"below21\") and gender ==\"Female\"')\n",
    "df_below25_female_went_to_ch_more_than_3_times_acceptance_rate_percentage = 100*(len(df_below25_female_went_to_ch_more_than_3_times.query('Y == 1'))/len(df_below25_female_went_to_ch_more_than_3_times))\n",
    "\n",
    "print(f' The acceptance rate for individuals who went to a CoffeeHouse more than 3 times a month and are below the age of 25 and male was{df_below25_male_went_to_ch_more_than_3_times_acceptance_rate_percentage: 0.2f} percent.\\n',\n",
    "     f'The acceptance rate for individuals who went to a CoffeeHouse more than 3 times a month and are below the age of 25 and female was{df_below25_female_went_to_ch_more_than_3_times_acceptance_rate_percentage: 0.2f} percent.')\n",
    "\n",
    "# Count plot in seaborn \n",
    "sns.catplot(data=df_below25_went_to_ch_more_than_3_times, x=\"gender\", kind=\"count\", hue='Y', stat='percent')\n",
    "# Include descriptive title\n",
    "plt.title('Individuals under 25 going to Coffee Shops > 3 times/month')\n",
    "\n"
   ]
  },
  {
   "cell_type": "markdown",
   "metadata": {},
   "source": [
    "We can see that the acceptance rate for females was higher than for males despite the fact that males had the largest number of coupons accepted"
   ]
  },
  {
   "cell_type": "markdown",
   "metadata": {},
   "source": [
    "Let's look at the influence of income:"
   ]
  },
  {
   "cell_type": "code",
   "execution_count": 33,
   "metadata": {},
   "outputs": [
    {
     "data": {
      "text/plain": [
       "([0, 1, 2, 3, 4, 5, 6, 7, 8],\n",
       " [Text(0, 0, '$25000 - $37499'),\n",
       "  Text(1, 0, '$100000 or More'),\n",
       "  Text(2, 0, '$12500 - $24999'),\n",
       "  Text(3, 0, '$50000 - $62499'),\n",
       "  Text(4, 0, 'Less than $12500'),\n",
       "  Text(5, 0, '$62500 - $74999'),\n",
       "  Text(6, 0, '$87500 - $99999'),\n",
       "  Text(7, 0, '$75000 - $87499'),\n",
       "  Text(8, 0, '$37500 - $49999')])"
      ]
     },
     "execution_count": 33,
     "metadata": {},
     "output_type": "execute_result"
    },
    {
     "data": {
      "image/png": "[encoded data removed]",
      "text/plain": [
       "<Figure size 563.5x500 with 1 Axes>"
      ]
     },
     "metadata": {},
     "output_type": "display_data"
    }
   ],
   "source": [
    "# Count plot in seaborn \n",
    "sns.catplot(data=df_below25_went_to_ch_more_than_3_times, x=\"income\", kind=\"count\", hue='Y', stat='percent')\n",
    "# Include descriptive title\n",
    "plt.title('Individuals under 25 going to Coffee Shops > 3 times/month')\n",
    "#Change size and rotate labels as they are long\n",
    "plt.xticks(fontsize=8, rotation = 90)"
   ]
  },
  {
   "cell_type": "code",
   "execution_count": 34,
   "metadata": {},
   "outputs": [
    {
     "name": "stdout",
     "output_type": "stream",
     "text": [
      " Acceptance rates as a function of income level \n",
      " -----------------------------------------------\n",
      "\n"
     ]
    },
    {
     "data": {
      "text/plain": [
       "income          \n",
       "$100000 or More     66.666667\n",
       "$12500 - $24999     68.000000\n",
       "$25000 - $37499     73.076923\n",
       "$37500 - $49999     55.555556\n",
       "$50000 - $62499     76.000000\n",
       "$62500 - $74999     90.000000\n",
       "$75000 - $87499     77.777778\n",
       "$87500 - $99999     86.666667\n",
       "Less than $12500    83.333333\n",
       "Name: count, dtype: float64"
      ]
     },
     "execution_count": 34,
     "metadata": {},
     "output_type": "execute_result"
    }
   ],
   "source": [
    "print(' Acceptance rates as a function of income level \\n','-----------------------------------------------\\n')\n",
    "#Compute acceptance rates as a function of income level\n",
    "100*df_below25_went_to_ch_more_than_3_times.query('Y==1')[[\"income\"]].value_counts() /(df_below25_went_to_ch_more_than_3_times.query('Y==0')[[\"income\"]].value_counts()+ df_below25_went_to_ch_more_than_3_times.query('Y==1')[[\"income\"]].value_counts()) "
   ]
  },
  {
   "cell_type": "markdown",
   "metadata": {},
   "source": [
    "We can see the groups with the largest acceptance rates being individuals with incomes less than 12500, between 87500-99999 and between 62500-74999 dollars. The largest number of coupons accepted were by the less than 12500 dollar income group   "
   ]
  },
  {
   "cell_type": "markdown",
   "metadata": {},
   "source": [
    "Let's look now at the influence of education:"
   ]
  },
  {
   "cell_type": "code",
   "execution_count": 35,
   "metadata": {},
   "outputs": [
    {
     "data": {
      "text/plain": [
       "([0, 1, 2, 3],\n",
       " [Text(0, 0, 'Some college - no degree'),\n",
       "  Text(1, 0, 'Bachelors degree'),\n",
       "  Text(2, 0, 'Graduate degree (Masters or Doctorate)'),\n",
       "  Text(3, 0, 'High School Graduate')])"
      ]
     },
     "execution_count": 35,
     "metadata": {},
     "output_type": "execute_result"
    },
    {
     "data": {
      "image/png": "[encoded data removed]",
      "text/plain": [
       "<Figure size 563.5x500 with 1 Axes>"
      ]
     },
     "metadata": {},
     "output_type": "display_data"
    }
   ],
   "source": [
    "# Count plot in seaborn \n",
    "sns.catplot(data=df_below25_went_to_ch_more_than_3_times, x=\"education\", kind=\"count\", hue='Y', stat='percent')\n",
    "# Include descriptive title\n",
    "plt.title('Individuals under 25 going to Coffee Shops > 3 times/month')\n",
    "#Change size and rotate labels as they are long\n",
    "plt.xticks(fontsize=8, rotation = 90)"
   ]
  },
  {
   "cell_type": "code",
   "execution_count": 36,
   "metadata": {},
   "outputs": [
    {
     "name": "stdout",
     "output_type": "stream",
     "text": [
      " Acceptance rates as a function of educational level \n",
      " ---------------------------------------------------\n",
      "\n"
     ]
    },
    {
     "data": {
      "text/plain": [
       "education                             \n",
       "Some college - no degree                  72.727273\n",
       "Bachelors degree                          77.450980\n",
       "High School Graduate                      76.190476\n",
       "Graduate degree (Masters or Doctorate)    75.000000\n",
       "Name: count, dtype: float64"
      ]
     },
     "execution_count": 36,
     "metadata": {},
     "output_type": "execute_result"
    }
   ],
   "source": [
    "print(' Acceptance rates as a function of educational level \\n','---------------------------------------------------\\n')\n",
    "#Compute acceptance rates as a function of educational level\n",
    "100*df_below25_went_to_ch_more_than_3_times.query('Y==1')[[\"education\"]].value_counts() /(df_below25_went_to_ch_more_than_3_times.query('Y==0')[[\"education\"]].value_counts()+ df_below25_went_to_ch_more_than_3_times.query('Y==1')[[\"education\"]].value_counts()) "
   ]
  },
  {
   "cell_type": "markdown",
   "metadata": {},
   "source": [
    "We see individuals with bachelors degree are the ones with the largest coupon acceptance rates followed by individuals with high school diplomas. Overall there wasn't much difference between groups. "
   ]
  },
  {
   "cell_type": "markdown",
   "metadata": {},
   "source": [
    "Let's see now if time has an influence on Coffee House coupon acceptance. Let use a bar plot for that purpose:"
   ]
  },
  {
   "cell_type": "code",
   "execution_count": 37,
   "metadata": {},
   "outputs": [
    {
     "data": {
      "text/plain": [
       "<seaborn.axisgrid.FacetGrid at 0x202b1e29fd0>"
      ]
     },
     "execution_count": 37,
     "metadata": {},
     "output_type": "execute_result"
    },
    {
     "data": {
      "image/png": "[encoded data removed]",
      "text/plain": [
       "<Figure size 2563.5x500 with 5 Axes>"
      ]
     },
     "metadata": {},
     "output_type": "display_data"
    }
   ],
   "source": [
    "#Count plot in seaborn gruped by age and time of the day coupon is accepted/rejected\n",
    "sns.catplot(data=df_below25_went_to_ch_more_than_3_times, x=\"age\", kind=\"count\", hue='Y', col='time', stat='percent')"
   ]
  },
  {
   "cell_type": "code",
   "execution_count": 38,
   "metadata": {},
   "outputs": [
    {
     "name": "stdout",
     "output_type": "stream",
     "text": [
      " Acceptance rates as a function of time of the day \n",
      " ---------------------------------------------------\n",
      "\n"
     ]
    },
    {
     "data": {
      "text/plain": [
       "time\n",
       "10AM    91.071429\n",
       "10PM    51.851852\n",
       "2PM     78.723404\n",
       "6PM     69.230769\n",
       "7AM     73.529412\n",
       "Name: count, dtype: float64"
      ]
     },
     "execution_count": 38,
     "metadata": {},
     "output_type": "execute_result"
    }
   ],
   "source": [
    "print(' Acceptance rates as a function of time of the day \\n','---------------------------------------------------\\n')\n",
    "#Compute acceptance rates as a function of time of the day\n",
    "100*df_below25_went_to_ch_more_than_3_times.query('Y==1')[[\"time\"]].value_counts() /(df_below25_went_to_ch_more_than_3_times.query('Y==0')[[\"time\"]].value_counts()+ df_below25_went_to_ch_more_than_3_times.query('Y==1')[[\"time\"]].value_counts()) "
   ]
  },
  {
   "cell_type": "markdown",
   "metadata": {},
   "source": [
    "We can see coupon acceptance rates are low late at night (10 PM) and peaking at 10 AM and 2 PM. The largest number of coupons accepted was in the 21 year old group"
   ]
  },
  {
   "cell_type": "markdown",
   "metadata": {},
   "source": [
    "Let's now look at the influence of some attributes such as direction and location. First let's look at direction:"
   ]
  },
  {
   "cell_type": "code",
   "execution_count": 39,
   "metadata": {},
   "outputs": [
    {
     "data": {
      "text/plain": [
       "<seaborn.axisgrid.FacetGrid at 0x202b37e70b0>"
      ]
     },
     "execution_count": 39,
     "metadata": {},
     "output_type": "execute_result"
    },
    {
     "data": {
      "image/png": "[encoded data removed]",
      "text/plain": [
       "<Figure size 1063.5x500 with 2 Axes>"
      ]
     },
     "metadata": {},
     "output_type": "display_data"
    }
   ],
   "source": [
    "# Count plot in seaborn to look at the influence of opposite direction on coupon acceptance\n",
    "sns.catplot(data=df_below25_went_to_ch_more_than_3_times, x=\"age\", kind=\"count\", hue='Y', col='direction_opp', stat='percent')"
   ]
  },
  {
   "cell_type": "code",
   "execution_count": 40,
   "metadata": {},
   "outputs": [
    {
     "name": "stdout",
     "output_type": "stream",
     "text": [
      " Acceptance rates as a function of opposite direction \n",
      " ---------------------------------------------------\n",
      "\n"
     ]
    },
    {
     "data": {
      "text/plain": [
       "direction_opp\n",
       "1                72.222222\n",
       "0                83.076923\n",
       "Name: count, dtype: float64"
      ]
     },
     "execution_count": 40,
     "metadata": {},
     "output_type": "execute_result"
    }
   ],
   "source": [
    "print(' Acceptance rates as a function of opposite direction \\n','---------------------------------------------------\\n')\n",
    "#Compute acceptance rates as a function of opposite direction\n",
    "100*df_below25_went_to_ch_more_than_3_times.query('Y==1')[[\"direction_opp\"]].value_counts() /(df_below25_went_to_ch_more_than_3_times.query('Y==0')[[\"direction_opp\"]].value_counts()+ df_below25_went_to_ch_more_than_3_times.query('Y==1')[[\"direction_opp\"]].value_counts()) "
   ]
  },
  {
   "cell_type": "code",
   "execution_count": 41,
   "metadata": {},
   "outputs": [
    {
     "data": {
      "text/plain": [
       "<seaborn.axisgrid.FacetGrid at 0x202b16ff260>"
      ]
     },
     "execution_count": 41,
     "metadata": {},
     "output_type": "execute_result"
    },
    {
     "data": {
      "image/png": "[encoded data removed]",
      "text/plain": [
       "<Figure size 1063.5x500 with 2 Axes>"
      ]
     },
     "metadata": {},
     "output_type": "display_data"
    }
   ],
   "source": [
    "# Count plot in seaborn to look at the influence of same direction on coupon acceptance\n",
    "sns.catplot(data=df_below25_went_to_ch_more_than_3_times, x=\"age\", kind=\"count\", hue='Y', col='direction_same', stat='percent')"
   ]
  },
  {
   "cell_type": "code",
   "execution_count": 42,
   "metadata": {},
   "outputs": [
    {
     "name": "stdout",
     "output_type": "stream",
     "text": [
      " Acceptance rates as a function of same direction \n",
      " ---------------------------------------------------\n",
      "\n"
     ]
    },
    {
     "data": {
      "text/plain": [
       "direction_same\n",
       "0                 72.222222\n",
       "1                 83.076923\n",
       "Name: count, dtype: float64"
      ]
     },
     "execution_count": 42,
     "metadata": {},
     "output_type": "execute_result"
    }
   ],
   "source": [
    "print(' Acceptance rates as a function of same direction \\n','---------------------------------------------------\\n')\n",
    "#Compute acceptance rates as a function of time of the day\n",
    "100*df_below25_went_to_ch_more_than_3_times.query('Y==1')[[\"direction_same\"]].value_counts() /(df_below25_went_to_ch_more_than_3_times.query('Y==0')[[\"direction_same\"]].value_counts()+ df_below25_went_to_ch_more_than_3_times.query('Y==1')[[\"direction_same\"]].value_counts()) "
   ]
  },
  {
   "cell_type": "markdown",
   "metadata": {},
   "source": [
    "We can see coupon acceptance rates are sginificantly higher when the individuals are driving in the direction of the coffee house"
   ]
  },
  {
   "cell_type": "markdown",
   "metadata": {},
   "source": [
    "Finally lets look at the proximity factor"
   ]
  },
  {
   "cell_type": "code",
   "execution_count": 43,
   "metadata": {},
   "outputs": [
    {
     "data": {
      "text/plain": [
       "<seaborn.axisgrid.FacetGrid at 0x202b38aeff0>"
      ]
     },
     "execution_count": 43,
     "metadata": {},
     "output_type": "execute_result"
    },
    {
     "data": {
      "image/png": "[encoded data removed]",
      "text/plain": [
       "<Figure size 563.5x500 with 1 Axes>"
      ]
     },
     "metadata": {},
     "output_type": "display_data"
    }
   ],
   "source": [
    "# Count plot in seaborn to look at the influence of proximity on coupon acceptance\n",
    "sns.catplot(data=df_below25_went_to_ch_more_than_3_times, x=\"age\", kind=\"count\", hue='Y', col='toCoupon_GEQ5min', stat='percent')"
   ]
  },
  {
   "cell_type": "code",
   "execution_count": 44,
   "metadata": {},
   "outputs": [
    {
     "data": {
      "text/plain": [
       "<seaborn.axisgrid.FacetGrid at 0x202b1aa9640>"
      ]
     },
     "execution_count": 44,
     "metadata": {},
     "output_type": "execute_result"
    },
    {
     "data": {
      "image/png": "[encoded data removed]",
      "text/plain": [
       "<Figure size 1063.5x500 with 2 Axes>"
      ]
     },
     "metadata": {},
     "output_type": "display_data"
    }
   ],
   "source": [
    "# Count plot in seaborn to look at the influence of proximity on coupon acceptance\n",
    "sns.catplot(data=df_below25_went_to_ch_more_than_3_times, x=\"age\", kind=\"count\", hue='Y', col='toCoupon_GEQ15min', stat='percent')"
   ]
  },
  {
   "cell_type": "code",
   "execution_count": 45,
   "metadata": {},
   "outputs": [
    {
     "data": {
      "text/plain": [
       "<seaborn.axisgrid.FacetGrid at 0x202b38290d0>"
      ]
     },
     "execution_count": 45,
     "metadata": {},
     "output_type": "execute_result"
    },
    {
     "data": {
      "image/png": "[encoded data removed]",
      "text/plain": [
       "<Figure size 1063.5x500 with 2 Axes>"
      ]
     },
     "metadata": {},
     "output_type": "display_data"
    }
   ],
   "source": [
    "# Count plot in seaborn to look at the influence of proximity on coupon acceptance\n",
    "sns.catplot(data=df_below25_went_to_ch_more_than_3_times, x=\"age\", kind=\"count\", hue='Y', col='toCoupon_GEQ25min', stat='percent')"
   ]
  },
  {
   "cell_type": "code",
   "execution_count": 46,
   "metadata": {},
   "outputs": [
    {
     "name": "stdout",
     "output_type": "stream",
     "text": [
      " Acceptance rates as a function of distance GEQ5min \n",
      " ---------------------------------------------------\n",
      "\n"
     ]
    },
    {
     "data": {
      "text/plain": [
       "toCoupon_GEQ5min\n",
       "1                   74.904943\n",
       "Name: count, dtype: float64"
      ]
     },
     "execution_count": 46,
     "metadata": {},
     "output_type": "execute_result"
    }
   ],
   "source": [
    "print(' Acceptance rates as a function of distance GEQ5min \\n','---------------------------------------------------\\n')\n",
    "#Compute acceptance rates as a function of time of the day\n",
    "100*df_below25_went_to_ch_more_than_3_times.query('Y==1')[[\"toCoupon_GEQ5min\"]].value_counts() /(df_below25_went_to_ch_more_than_3_times.query('Y==0')[[\"toCoupon_GEQ5min\"]].value_counts()+ df_below25_went_to_ch_more_than_3_times.query('Y==1')[[\"toCoupon_GEQ5min\"]].value_counts()) "
   ]
  },
  {
   "cell_type": "code",
   "execution_count": 47,
   "metadata": {},
   "outputs": [
    {
     "name": "stdout",
     "output_type": "stream",
     "text": [
      " Acceptance rates as a function of distance GEQ15min \n",
      " ---------------------------------------------------\n",
      "\n"
     ]
    },
    {
     "data": {
      "text/plain": [
       "toCoupon_GEQ15min\n",
       "0                    81.343284\n",
       "1                    68.217054\n",
       "Name: count, dtype: float64"
      ]
     },
     "execution_count": 47,
     "metadata": {},
     "output_type": "execute_result"
    }
   ],
   "source": [
    "print(' Acceptance rates as a function of distance GEQ15min \\n','---------------------------------------------------\\n')\n",
    "#Compute acceptance rates as a function of time of the day\n",
    "100*df_below25_went_to_ch_more_than_3_times.query('Y==1')[[\"toCoupon_GEQ15min\"]].value_counts() /(df_below25_went_to_ch_more_than_3_times.query('Y==0')[[\"toCoupon_GEQ15min\"]].value_counts()+ df_below25_went_to_ch_more_than_3_times.query('Y==1')[[\"toCoupon_GEQ15min\"]].value_counts())"
   ]
  },
  {
   "cell_type": "code",
   "execution_count": 48,
   "metadata": {},
   "outputs": [
    {
     "name": "stdout",
     "output_type": "stream",
     "text": [
      " Acceptance rates as a function of distance GEQ25min  \n",
      " ---------------------------------------------------\n",
      "\n"
     ]
    },
    {
     "data": {
      "text/plain": [
       "toCoupon_GEQ25min\n",
       "0                    75.933610\n",
       "1                    63.636364\n",
       "Name: count, dtype: float64"
      ]
     },
     "execution_count": 48,
     "metadata": {},
     "output_type": "execute_result"
    }
   ],
   "source": [
    "print(' Acceptance rates as a function of distance GEQ25min  \\n','---------------------------------------------------\\n')\n",
    "#Compute acceptance rates as a function of time of the day\n",
    "100*df_below25_went_to_ch_more_than_3_times.query('Y==1')[[\"toCoupon_GEQ25min\"]].value_counts() /(df_below25_went_to_ch_more_than_3_times.query('Y==0')[[\"toCoupon_GEQ25min\"]].value_counts()+ df_below25_went_to_ch_more_than_3_times.query('Y==1')[[\"toCoupon_GEQ25min\"]].value_counts()) "
   ]
  },
  {
   "cell_type": "markdown",
   "metadata": {},
   "source": [
    "Not suprisingly coupons acceptance rates are higher when the coffee house is closer to the driver. Acceptance rate peaks when the driver is within 15 minutes of the store at the time the coupon is received"
   ]
  },
  {
   "cell_type": "markdown",
   "metadata": {},
   "source": [
    "Coffee House analysis summary\n",
    " ==============================\n",
    "Based on the partial analyses performed, the customer who is the most likely to accept coffee house coupons has the following profile:\n",
    "\n",
    "        - Visits coffee houses more than 3 times a month\n",
    "        - It is under 25 years old\n",
    "        - Female\n",
    "        - Has an income less than $12500\n",
    "        - The coupon is issued between the mid morning and the early afternoon (10AM to 2PM)\n",
    "        - It is driving in the same direction as the coffee house is located\n",
    "        - It is within 15 minutes of the store   "
   ]
  },
  {
   "cell_type": "markdown",
   "metadata": {},
   "source": [
    " NEXT STEPS AND RECOMMENDATIONS\n",
    " ==============================\n",
    "  We have completed an initial analysis of two coupon types with a limited set of variables and data attributes.\n",
    "  It would be good to expand the analysis to explore the possible influences of occupation, passanger type, marital status, family composition and weather among others.\n",
    "  Also expand the analysis to look at other type of store coupons as well. "
   ]
  },
  {
   "cell_type": "code",
   "execution_count": null,
   "metadata": {},
   "outputs": [],
   "source": []
  }
 ],
 "metadata": {
  "kernelspec": {
   "display_name": "Python 3 (ipykernel)",
   "language": "python",
   "name": "python3"
  },
  "language_info": {
   "codemirror_mode": {
    "name": "ipython",
    "version": 3
   },
   "file_extension": ".py",
   "mimetype": "text/x-python",
   "name": "python",
   "nbconvert_exporter": "python",
   "pygments_lexer": "ipython3",
   "version": "3.12.2"
  },
  "widgets": {
   "application/vnd.jupyter.widget-state+json": {
    "state": {},
    "version_major": 2,
    "version_minor": 0
   }
  }
 },
 "nbformat": 4,
 "nbformat_minor": 4
}
